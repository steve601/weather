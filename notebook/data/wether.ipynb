{
 "cells": [
  {
   "cell_type": "markdown",
   "metadata": {},
   "source": [
    "### Weather Type Classification"
   ]
  },
  {
   "cell_type": "code",
   "execution_count": 1,
   "metadata": {},
   "outputs": [],
   "source": [
    "import pandas as pd\n",
    "import numpy as np\n",
    "import seaborn as sns\n",
    "import matplotlib.pyplot as plt\n",
    "from sklearn.preprocessing import MinMaxScaler,OneHotEncoder\n",
    "from sklearn.model_selection import train_test_split\n",
    "from sklearn.pipeline import Pipeline\n",
    "from sklearn.compose import ColumnTransformer\n",
    "from sklearn.linear_model import LogisticRegression\n",
    "from sklearn.tree import DecisionTreeClassifier\n",
    "from sklearn.ensemble import RandomForestClassifier\n",
    "from xgboost import XGBClassifier\n",
    "from catboost import CatBoostClassifier\n",
    "from sklearn.neighbors import KNeighborsClassifier\n",
    "from sklearn.svm import SVC\n",
    "from sklearn.metrics import accuracy_score"
   ]
  },
  {
   "cell_type": "code",
   "execution_count": 2,
   "metadata": {},
   "outputs": [
    {
     "data": {
      "text/html": [
       "<div>\n",
       "<style scoped>\n",
       "    .dataframe tbody tr th:only-of-type {\n",
       "        vertical-align: middle;\n",
       "    }\n",
       "\n",
       "    .dataframe tbody tr th {\n",
       "        vertical-align: top;\n",
       "    }\n",
       "\n",
       "    .dataframe thead th {\n",
       "        text-align: right;\n",
       "    }\n",
       "</style>\n",
       "<table border=\"1\" class=\"dataframe\">\n",
       "  <thead>\n",
       "    <tr style=\"text-align: right;\">\n",
       "      <th></th>\n",
       "      <th>Temperature</th>\n",
       "      <th>Humidity</th>\n",
       "      <th>Wind Speed</th>\n",
       "      <th>Precipitation (%)</th>\n",
       "      <th>Cloud Cover</th>\n",
       "      <th>Atmospheric Pressure</th>\n",
       "      <th>UV Index</th>\n",
       "      <th>Season</th>\n",
       "      <th>Visibility (km)</th>\n",
       "      <th>Location</th>\n",
       "      <th>Weather Type</th>\n",
       "    </tr>\n",
       "  </thead>\n",
       "  <tbody>\n",
       "    <tr>\n",
       "      <th>0</th>\n",
       "      <td>14.0</td>\n",
       "      <td>73</td>\n",
       "      <td>9.5</td>\n",
       "      <td>82.0</td>\n",
       "      <td>partly cloudy</td>\n",
       "      <td>1010.82</td>\n",
       "      <td>2</td>\n",
       "      <td>Winter</td>\n",
       "      <td>3.5</td>\n",
       "      <td>inland</td>\n",
       "      <td>Rainy</td>\n",
       "    </tr>\n",
       "    <tr>\n",
       "      <th>1</th>\n",
       "      <td>39.0</td>\n",
       "      <td>96</td>\n",
       "      <td>8.5</td>\n",
       "      <td>71.0</td>\n",
       "      <td>partly cloudy</td>\n",
       "      <td>1011.43</td>\n",
       "      <td>7</td>\n",
       "      <td>Spring</td>\n",
       "      <td>10.0</td>\n",
       "      <td>inland</td>\n",
       "      <td>Cloudy</td>\n",
       "    </tr>\n",
       "    <tr>\n",
       "      <th>2</th>\n",
       "      <td>30.0</td>\n",
       "      <td>64</td>\n",
       "      <td>7.0</td>\n",
       "      <td>16.0</td>\n",
       "      <td>clear</td>\n",
       "      <td>1018.72</td>\n",
       "      <td>5</td>\n",
       "      <td>Spring</td>\n",
       "      <td>5.5</td>\n",
       "      <td>mountain</td>\n",
       "      <td>Sunny</td>\n",
       "    </tr>\n",
       "    <tr>\n",
       "      <th>3</th>\n",
       "      <td>38.0</td>\n",
       "      <td>83</td>\n",
       "      <td>1.5</td>\n",
       "      <td>82.0</td>\n",
       "      <td>clear</td>\n",
       "      <td>1026.25</td>\n",
       "      <td>7</td>\n",
       "      <td>Spring</td>\n",
       "      <td>1.0</td>\n",
       "      <td>coastal</td>\n",
       "      <td>Sunny</td>\n",
       "    </tr>\n",
       "    <tr>\n",
       "      <th>4</th>\n",
       "      <td>27.0</td>\n",
       "      <td>74</td>\n",
       "      <td>17.0</td>\n",
       "      <td>66.0</td>\n",
       "      <td>overcast</td>\n",
       "      <td>990.67</td>\n",
       "      <td>1</td>\n",
       "      <td>Winter</td>\n",
       "      <td>2.5</td>\n",
       "      <td>mountain</td>\n",
       "      <td>Rainy</td>\n",
       "    </tr>\n",
       "  </tbody>\n",
       "</table>\n",
       "</div>"
      ],
      "text/plain": [
       "   Temperature  Humidity  Wind Speed  Precipitation (%)    Cloud Cover  \\\n",
       "0         14.0        73         9.5               82.0  partly cloudy   \n",
       "1         39.0        96         8.5               71.0  partly cloudy   \n",
       "2         30.0        64         7.0               16.0          clear   \n",
       "3         38.0        83         1.5               82.0          clear   \n",
       "4         27.0        74        17.0               66.0       overcast   \n",
       "\n",
       "   Atmospheric Pressure  UV Index  Season  Visibility (km)  Location  \\\n",
       "0               1010.82         2  Winter              3.5    inland   \n",
       "1               1011.43         7  Spring             10.0    inland   \n",
       "2               1018.72         5  Spring              5.5  mountain   \n",
       "3               1026.25         7  Spring              1.0   coastal   \n",
       "4                990.67         1  Winter              2.5  mountain   \n",
       "\n",
       "  Weather Type  \n",
       "0        Rainy  \n",
       "1       Cloudy  \n",
       "2        Sunny  \n",
       "3        Sunny  \n",
       "4        Rainy  "
      ]
     },
     "execution_count": 2,
     "metadata": {},
     "output_type": "execute_result"
    }
   ],
   "source": [
    "df = pd.read_csv('C:/Users/odhia/OneDrive/Desktop/mlopsProjects/notebook/data/weather_classification_data.csv')\n",
    "df.head()"
   ]
  },
  {
   "cell_type": "code",
   "execution_count": 3,
   "metadata": {},
   "outputs": [
    {
     "name": "stdout",
     "output_type": "stream",
     "text": [
      "<class 'pandas.core.frame.DataFrame'>\n",
      "RangeIndex: 13200 entries, 0 to 13199\n",
      "Data columns (total 11 columns):\n",
      " #   Column                Non-Null Count  Dtype  \n",
      "---  ------                --------------  -----  \n",
      " 0   Temperature           13200 non-null  float64\n",
      " 1   Humidity              13200 non-null  int64  \n",
      " 2   Wind Speed            13200 non-null  float64\n",
      " 3   Precipitation (%)     13200 non-null  float64\n",
      " 4   Cloud Cover           13200 non-null  object \n",
      " 5   Atmospheric Pressure  13200 non-null  float64\n",
      " 6   UV Index              13200 non-null  int64  \n",
      " 7   Season                13200 non-null  object \n",
      " 8   Visibility (km)       13200 non-null  float64\n",
      " 9   Location              13200 non-null  object \n",
      " 10  Weather Type          13200 non-null  object \n",
      "dtypes: float64(5), int64(2), object(4)\n",
      "memory usage: 1.1+ MB\n"
     ]
    }
   ],
   "source": [
    "df.info()"
   ]
  },
  {
   "cell_type": "code",
   "execution_count": 4,
   "metadata": {},
   "outputs": [
    {
     "data": {
      "text/plain": [
       "0"
      ]
     },
     "execution_count": 4,
     "metadata": {},
     "output_type": "execute_result"
    }
   ],
   "source": [
    "df.duplicated().sum()"
   ]
  },
  {
   "cell_type": "markdown",
   "metadata": {},
   "source": [
    "#### Temperature (numeric): The temperature in degrees Celsius, ranging from extreme cold to extreme heat.\n",
    "#### Humidity (numeric): The humidity percentage, including values above 100% to introduce outliers.\n",
    "#### Wind Speed (numeric): The wind speed in kilometers per hour, with a range including unrealistically high values.\n",
    "#### Precipitation (%) (numeric): The precipitation percentage, including outlier values.\n",
    "#### Cloud Cover (categorical): The cloud cover description.\n",
    "#### Atmospheric Pressure (numeric): The atmospheric pressure in hPa, covering a wide range.\n",
    "#### UV Index (numeric): The UV index, indicating the strength of ultraviolet radiation.\n",
    "#### Season (categorical): The season during which the data was recorded.\n",
    "#### Visibility (km) (numeric): The visibility in kilometers, including very low or very high values.\n",
    "#### Location (categorical): The type of location where the data was recorded.\n",
    "#### Weather Type (categorical): The target variable for classification, indicating the weather type."
   ]
  },
  {
   "cell_type": "code",
   "execution_count": 5,
   "metadata": {},
   "outputs": [
    {
     "data": {
      "text/html": [
       "<div>\n",
       "<style scoped>\n",
       "    .dataframe tbody tr th:only-of-type {\n",
       "        vertical-align: middle;\n",
       "    }\n",
       "\n",
       "    .dataframe tbody tr th {\n",
       "        vertical-align: top;\n",
       "    }\n",
       "\n",
       "    .dataframe thead th {\n",
       "        text-align: right;\n",
       "    }\n",
       "</style>\n",
       "<table border=\"1\" class=\"dataframe\">\n",
       "  <thead>\n",
       "    <tr style=\"text-align: right;\">\n",
       "      <th></th>\n",
       "      <th>Temperature</th>\n",
       "      <th>Humidity</th>\n",
       "      <th>Wind Speed</th>\n",
       "      <th>Precipitation (%)</th>\n",
       "      <th>Atmospheric Pressure</th>\n",
       "      <th>UV Index</th>\n",
       "      <th>Visibility (km)</th>\n",
       "    </tr>\n",
       "  </thead>\n",
       "  <tbody>\n",
       "    <tr>\n",
       "      <th>count</th>\n",
       "      <td>13200.000000</td>\n",
       "      <td>13200.000000</td>\n",
       "      <td>13200.000000</td>\n",
       "      <td>13200.000000</td>\n",
       "      <td>13200.000000</td>\n",
       "      <td>13200.000000</td>\n",
       "      <td>13200.000000</td>\n",
       "    </tr>\n",
       "    <tr>\n",
       "      <th>mean</th>\n",
       "      <td>19.127576</td>\n",
       "      <td>68.710833</td>\n",
       "      <td>9.832197</td>\n",
       "      <td>53.644394</td>\n",
       "      <td>1005.827896</td>\n",
       "      <td>4.005758</td>\n",
       "      <td>5.462917</td>\n",
       "    </tr>\n",
       "    <tr>\n",
       "      <th>std</th>\n",
       "      <td>17.386327</td>\n",
       "      <td>20.194248</td>\n",
       "      <td>6.908704</td>\n",
       "      <td>31.946541</td>\n",
       "      <td>37.199589</td>\n",
       "      <td>3.856600</td>\n",
       "      <td>3.371499</td>\n",
       "    </tr>\n",
       "    <tr>\n",
       "      <th>min</th>\n",
       "      <td>-25.000000</td>\n",
       "      <td>20.000000</td>\n",
       "      <td>0.000000</td>\n",
       "      <td>0.000000</td>\n",
       "      <td>800.120000</td>\n",
       "      <td>0.000000</td>\n",
       "      <td>0.000000</td>\n",
       "    </tr>\n",
       "    <tr>\n",
       "      <th>25%</th>\n",
       "      <td>4.000000</td>\n",
       "      <td>57.000000</td>\n",
       "      <td>5.000000</td>\n",
       "      <td>19.000000</td>\n",
       "      <td>994.800000</td>\n",
       "      <td>1.000000</td>\n",
       "      <td>3.000000</td>\n",
       "    </tr>\n",
       "    <tr>\n",
       "      <th>50%</th>\n",
       "      <td>21.000000</td>\n",
       "      <td>70.000000</td>\n",
       "      <td>9.000000</td>\n",
       "      <td>58.000000</td>\n",
       "      <td>1007.650000</td>\n",
       "      <td>3.000000</td>\n",
       "      <td>5.000000</td>\n",
       "    </tr>\n",
       "    <tr>\n",
       "      <th>75%</th>\n",
       "      <td>31.000000</td>\n",
       "      <td>84.000000</td>\n",
       "      <td>13.500000</td>\n",
       "      <td>82.000000</td>\n",
       "      <td>1016.772500</td>\n",
       "      <td>7.000000</td>\n",
       "      <td>7.500000</td>\n",
       "    </tr>\n",
       "    <tr>\n",
       "      <th>max</th>\n",
       "      <td>109.000000</td>\n",
       "      <td>109.000000</td>\n",
       "      <td>48.500000</td>\n",
       "      <td>109.000000</td>\n",
       "      <td>1199.210000</td>\n",
       "      <td>14.000000</td>\n",
       "      <td>20.000000</td>\n",
       "    </tr>\n",
       "  </tbody>\n",
       "</table>\n",
       "</div>"
      ],
      "text/plain": [
       "        Temperature      Humidity    Wind Speed  Precipitation (%)  \\\n",
       "count  13200.000000  13200.000000  13200.000000       13200.000000   \n",
       "mean      19.127576     68.710833      9.832197          53.644394   \n",
       "std       17.386327     20.194248      6.908704          31.946541   \n",
       "min      -25.000000     20.000000      0.000000           0.000000   \n",
       "25%        4.000000     57.000000      5.000000          19.000000   \n",
       "50%       21.000000     70.000000      9.000000          58.000000   \n",
       "75%       31.000000     84.000000     13.500000          82.000000   \n",
       "max      109.000000    109.000000     48.500000         109.000000   \n",
       "\n",
       "       Atmospheric Pressure      UV Index  Visibility (km)  \n",
       "count          13200.000000  13200.000000     13200.000000  \n",
       "mean            1005.827896      4.005758         5.462917  \n",
       "std               37.199589      3.856600         3.371499  \n",
       "min              800.120000      0.000000         0.000000  \n",
       "25%              994.800000      1.000000         3.000000  \n",
       "50%             1007.650000      3.000000         5.000000  \n",
       "75%             1016.772500      7.000000         7.500000  \n",
       "max             1199.210000     14.000000        20.000000  "
      ]
     },
     "execution_count": 5,
     "metadata": {},
     "output_type": "execute_result"
    }
   ],
   "source": [
    "df.describe()"
   ]
  },
  {
   "cell_type": "code",
   "execution_count": 6,
   "metadata": {},
   "outputs": [
    {
     "data": {
      "text/plain": [
       "Index(['temperature', 'humidity', 'wind speed', 'precipitation (%)',\n",
       "       'cloud cover', 'atmospheric pressure', 'uv index', 'season',\n",
       "       'visibility (km)', 'location', 'weather type'],\n",
       "      dtype='object')"
      ]
     },
     "execution_count": 6,
     "metadata": {},
     "output_type": "execute_result"
    }
   ],
   "source": [
    "df.columns = df.columns.str.lower()\n",
    "df.columns"
   ]
  },
  {
   "cell_type": "markdown",
   "metadata": {},
   "source": [
    "#### Temperature"
   ]
  },
  {
   "cell_type": "code",
   "execution_count": 7,
   "metadata": {},
   "outputs": [
    {
     "name": "stdout",
     "output_type": "stream",
     "text": [
      "max Temp is:109.0degrees\n",
      "min Temp is:-25.0degrees\n"
     ]
    }
   ],
   "source": [
    "print(f\"max Temp is:{df.temperature.max()}degrees\")\n",
    "print(f\"min Temp is:{df.temperature.min()}degrees\")"
   ]
  },
  {
   "cell_type": "code",
   "execution_count": 8,
   "metadata": {},
   "outputs": [
    {
     "data": {
      "text/plain": [
       "<Axes: xlabel='temperature', ylabel='Count'>"
      ]
     },
     "execution_count": 8,
     "metadata": {},
     "output_type": "execute_result"
    },
    {
     "data": {
      "image/png": "[encoded data removed]",
      "text/plain": [
       "<Figure size 640x480 with 1 Axes>"
      ]
     },
     "metadata": {},
     "output_type": "display_data"
    }
   ],
   "source": [
    "sns.histplot(x=df.temperature,kde=True)"
   ]
  },
  {
   "cell_type": "code",
   "execution_count": 9,
   "metadata": {},
   "outputs": [
    {
     "data": {
      "text/plain": [
       "<Axes: xlabel='temperature'>"
      ]
     },
     "execution_count": 9,
     "metadata": {},
     "output_type": "execute_result"
    },
    {
     "data": {
      "image/png": "[encoded data removed]",
      "text/plain": [
       "<Figure size 640x480 with 1 Axes>"
      ]
     },
     "metadata": {},
     "output_type": "display_data"
    }
   ],
   "source": [
    "sns.boxplot(x=df.temperature)"
   ]
  },
  {
   "cell_type": "markdown",
   "metadata": {},
   "source": [
    "#### humidity"
   ]
  },
  {
   "cell_type": "code",
   "execution_count": 10,
   "metadata": {},
   "outputs": [
    {
     "data": {
      "text/plain": [
       "<Axes: xlabel='humidity', ylabel='Count'>"
      ]
     },
     "execution_count": 10,
     "metadata": {},
     "output_type": "execute_result"
    },
    {
     "data": {
      "image/png": "[encoded data removed]",
      "text/plain": [
       "<Figure size 640x480 with 1 Axes>"
      ]
     },
     "metadata": {},
     "output_type": "display_data"
    }
   ],
   "source": [
    "sns.histplot(x=df.humidity,kde=True)"
   ]
  },
  {
   "cell_type": "code",
   "execution_count": 11,
   "metadata": {},
   "outputs": [
    {
     "data": {
      "text/plain": [
       "<Axes: xlabel='humidity'>"
      ]
     },
     "execution_count": 11,
     "metadata": {},
     "output_type": "execute_result"
    },
    {
     "data": {
      "image/png": "[encoded data removed]",
      "text/plain": [
       "<Figure size 640x480 with 1 Axes>"
      ]
     },
     "metadata": {},
     "output_type": "display_data"
    }
   ],
   "source": [
    "sns.boxplot(x=df.humidity)"
   ]
  },
  {
   "cell_type": "code",
   "execution_count": 12,
   "metadata": {},
   "outputs": [],
   "source": [
    "df = df[df.humidity <= 100 ]"
   ]
  },
  {
   "cell_type": "markdown",
   "metadata": {},
   "source": [
    "#### wind speed'"
   ]
  },
  {
   "cell_type": "code",
   "execution_count": 13,
   "metadata": {},
   "outputs": [
    {
     "data": {
      "text/plain": [
       "<Axes: xlabel='wind speed', ylabel='Count'>"
      ]
     },
     "execution_count": 13,
     "metadata": {},
     "output_type": "execute_result"
    },
    {
     "data": {
      "image/png": "[encoded data removed]",
      "text/plain": [
       "<Figure size 640x480 with 1 Axes>"
      ]
     },
     "metadata": {},
     "output_type": "display_data"
    }
   ],
   "source": [
    "sns.histplot(x=df['wind speed'],kde=True)"
   ]
  },
  {
   "cell_type": "code",
   "execution_count": 14,
   "metadata": {},
   "outputs": [
    {
     "data": {
      "text/plain": [
       "<Axes: xlabel='wind speed'>"
      ]
     },
     "execution_count": 14,
     "metadata": {},
     "output_type": "execute_result"
    },
    {
     "data": {
      "image/png": "[encoded data removed]",
      "text/plain": [
       "<Figure size 640x480 with 1 Axes>"
      ]
     },
     "metadata": {},
     "output_type": "display_data"
    }
   ],
   "source": [
    "sns.boxplot(x=df['wind speed'])"
   ]
  },
  {
   "cell_type": "markdown",
   "metadata": {},
   "source": [
    "#### precipitation (%)"
   ]
  },
  {
   "cell_type": "code",
   "execution_count": 15,
   "metadata": {},
   "outputs": [
    {
     "data": {
      "text/plain": [
       "<Axes: xlabel='precipitation (%)', ylabel='Count'>"
      ]
     },
     "execution_count": 15,
     "metadata": {},
     "output_type": "execute_result"
    },
    {
     "data": {
      "image/png": "[encoded data removed]",
      "text/plain": [
       "<Figure size 640x480 with 1 Axes>"
      ]
     },
     "metadata": {},
     "output_type": "display_data"
    }
   ],
   "source": [
    "sns.histplot(x=df['precipitation (%)'],kde=True)"
   ]
  },
  {
   "cell_type": "code",
   "execution_count": 16,
   "metadata": {},
   "outputs": [
    {
     "data": {
      "text/plain": [
       "<Axes: xlabel='precipitation (%)'>"
      ]
     },
     "execution_count": 16,
     "metadata": {},
     "output_type": "execute_result"
    },
    {
     "data": {
      "image/png": "[encoded data removed]",
      "text/plain": [
       "<Figure size 640x480 with 1 Axes>"
      ]
     },
     "metadata": {},
     "output_type": "display_data"
    }
   ],
   "source": [
    "sns.boxplot(x=df['precipitation (%)'])"
   ]
  },
  {
   "cell_type": "code",
   "execution_count": 17,
   "metadata": {},
   "outputs": [],
   "source": [
    "df = df[df['precipitation (%)'] <= 100]"
   ]
  },
  {
   "cell_type": "markdown",
   "metadata": {},
   "source": [
    "#### cloud cover"
   ]
  },
  {
   "cell_type": "code",
   "execution_count": 18,
   "metadata": {},
   "outputs": [
    {
     "data": {
      "text/plain": [
       "cloud cover\n",
       "overcast         5751\n",
       "partly cloudy    4312\n",
       "clear            2009\n",
       "cloudy            411\n",
       "Name: count, dtype: int64"
      ]
     },
     "execution_count": 18,
     "metadata": {},
     "output_type": "execute_result"
    }
   ],
   "source": [
    "df['cloud cover'].value_counts()"
   ]
  },
  {
   "cell_type": "code",
   "execution_count": 19,
   "metadata": {},
   "outputs": [
    {
     "data": {
      "text/plain": [
       "<Axes: xlabel='cloud cover', ylabel='count'>"
      ]
     },
     "execution_count": 19,
     "metadata": {},
     "output_type": "execute_result"
    },
    {
     "data": {
      "image/png": "[encoded data removed]",
      "text/plain": [
       "<Figure size 640x480 with 1 Axes>"
      ]
     },
     "metadata": {},
     "output_type": "display_data"
    }
   ],
   "source": [
    "sns.countplot(x=df['cloud cover'])"
   ]
  },
  {
   "cell_type": "markdown",
   "metadata": {},
   "source": [
    "#### atmospheric pressure"
   ]
  },
  {
   "cell_type": "code",
   "execution_count": 20,
   "metadata": {},
   "outputs": [
    {
     "data": {
      "text/plain": [
       "<Axes: xlabel='atmospheric pressure', ylabel='Count'>"
      ]
     },
     "execution_count": 20,
     "metadata": {},
     "output_type": "execute_result"
    },
    {
     "data": {
      "image/png": "[encoded data removed]",
      "text/plain": [
       "<Figure size 640x480 with 1 Axes>"
      ]
     },
     "metadata": {},
     "output_type": "display_data"
    }
   ],
   "source": [
    "sns.histplot(x=df['atmospheric pressure'],kde=True)"
   ]
  },
  {
   "cell_type": "code",
   "execution_count": 21,
   "metadata": {},
   "outputs": [
    {
     "data": {
      "text/plain": [
       "<Axes: xlabel='atmospheric pressure'>"
      ]
     },
     "execution_count": 21,
     "metadata": {},
     "output_type": "execute_result"
    },
    {
     "data": {
      "image/png": "[encoded data removed]",
      "text/plain": [
       "<Figure size 640x480 with 1 Axes>"
      ]
     },
     "metadata": {},
     "output_type": "display_data"
    }
   ],
   "source": [
    "sns.boxplot(x=df['atmospheric pressure'])"
   ]
  },
  {
   "cell_type": "markdown",
   "metadata": {},
   "source": [
    "#### uv index"
   ]
  },
  {
   "cell_type": "code",
   "execution_count": 22,
   "metadata": {},
   "outputs": [
    {
     "data": {
      "text/plain": [
       "<Axes: xlabel='uv index', ylabel='Count'>"
      ]
     },
     "execution_count": 22,
     "metadata": {},
     "output_type": "execute_result"
    },
    {
     "data": {
      "image/png": "[encoded data removed]",
      "text/plain": [
       "<Figure size 640x480 with 1 Axes>"
      ]
     },
     "metadata": {},
     "output_type": "display_data"
    }
   ],
   "source": [
    "sns.histplot(x=df['uv index'],kde=True)"
   ]
  },
  {
   "cell_type": "code",
   "execution_count": 23,
   "metadata": {},
   "outputs": [
    {
     "data": {
      "text/plain": [
       "<Axes: xlabel='uv index'>"
      ]
     },
     "execution_count": 23,
     "metadata": {},
     "output_type": "execute_result"
    },
    {
     "data": {
      "image/png": "[encoded data removed]",
      "text/plain": [
       "<Figure size 640x480 with 1 Axes>"
      ]
     },
     "metadata": {},
     "output_type": "display_data"
    }
   ],
   "source": [
    "sns.boxplot(x=df['uv index'])"
   ]
  },
  {
   "cell_type": "markdown",
   "metadata": {},
   "source": [
    "#### season"
   ]
  },
  {
   "cell_type": "code",
   "execution_count": 24,
   "metadata": {},
   "outputs": [
    {
     "data": {
      "text/plain": [
       "season\n",
       "Winter    5305\n",
       "Spring    2486\n",
       "Autumn    2354\n",
       "Summer    2338\n",
       "Name: count, dtype: int64"
      ]
     },
     "execution_count": 24,
     "metadata": {},
     "output_type": "execute_result"
    }
   ],
   "source": [
    "df.season.value_counts()"
   ]
  },
  {
   "cell_type": "code",
   "execution_count": 25,
   "metadata": {},
   "outputs": [
    {
     "data": {
      "text/plain": [
       "<Axes: xlabel='season', ylabel='count'>"
      ]
     },
     "execution_count": 25,
     "metadata": {},
     "output_type": "execute_result"
    },
    {
     "data": {
      "image/png": "[encoded data removed]",
      "text/plain": [
       "<Figure size 640x480 with 1 Axes>"
      ]
     },
     "metadata": {},
     "output_type": "display_data"
    }
   ],
   "source": [
    "sns.countplot(x=df.season)"
   ]
  },
  {
   "cell_type": "markdown",
   "metadata": {},
   "source": [
    "#### visibility (km)"
   ]
  },
  {
   "cell_type": "code",
   "execution_count": 26,
   "metadata": {},
   "outputs": [
    {
     "data": {
      "text/plain": [
       "<Axes: xlabel='visibility (km)', ylabel='Count'>"
      ]
     },
     "execution_count": 26,
     "metadata": {},
     "output_type": "execute_result"
    },
    {
     "data": {
      "image/png": "[encoded data removed]",
      "text/plain": [
       "<Figure size 640x480 with 1 Axes>"
      ]
     },
     "metadata": {},
     "output_type": "display_data"
    }
   ],
   "source": [
    "sns.histplot(x=df['visibility (km)'],kde=True)"
   ]
  },
  {
   "cell_type": "code",
   "execution_count": 27,
   "metadata": {},
   "outputs": [
    {
     "data": {
      "text/plain": [
       "<Axes: xlabel='visibility (km)', ylabel='Count'>"
      ]
     },
     "execution_count": 27,
     "metadata": {},
     "output_type": "execute_result"
    },
    {
     "data": {
      "image/png": "[encoded data removed]",
      "text/plain": [
       "<Figure size 640x480 with 1 Axes>"
      ]
     },
     "metadata": {},
     "output_type": "display_data"
    }
   ],
   "source": [
    "sns.histplot(x=df['visibility (km)'],kde=True)"
   ]
  },
  {
   "cell_type": "markdown",
   "metadata": {},
   "source": [
    "#### 'location'"
   ]
  },
  {
   "cell_type": "code",
   "execution_count": 28,
   "metadata": {},
   "outputs": [
    {
     "data": {
      "text/plain": [
       "location\n",
       "mountain    4568\n",
       "inland      4529\n",
       "coastal     3386\n",
       "Name: count, dtype: int64"
      ]
     },
     "execution_count": 28,
     "metadata": {},
     "output_type": "execute_result"
    }
   ],
   "source": [
    "df.location.value_counts()"
   ]
  },
  {
   "cell_type": "code",
   "execution_count": 29,
   "metadata": {},
   "outputs": [
    {
     "data": {
      "text/plain": [
       "Text(0.5, 1.0, 'Location')"
      ]
     },
     "execution_count": 29,
     "metadata": {},
     "output_type": "execute_result"
    },
    {
     "data": {
      "image/png": "[encoded data removed]",
      "text/plain": [
       "<Figure size 300x300 with 1 Axes>"
      ]
     },
     "metadata": {},
     "output_type": "display_data"
    }
   ],
   "source": [
    "labels = ['Mountain','Inland','Coastal']\n",
    "sizes = df.location.value_counts()\n",
    "\n",
    "plt.figure(figsize=(3,3))\n",
    "plt.pie(sizes, labels=labels, autopct='%1.1f%%', startangle=140)\n",
    "\n",
    "plt.axis('equal')\n",
    "plt.title('Location')"
   ]
  },
  {
   "cell_type": "markdown",
   "metadata": {},
   "source": [
    "####  'weather type'"
   ]
  },
  {
   "cell_type": "code",
   "execution_count": 30,
   "metadata": {},
   "outputs": [
    {
     "data": {
      "text/plain": [
       "weather type\n",
       "Snowy     3130\n",
       "Sunny     3124\n",
       "Rainy     3116\n",
       "Cloudy    3113\n",
       "Name: count, dtype: int64"
      ]
     },
     "execution_count": 30,
     "metadata": {},
     "output_type": "execute_result"
    }
   ],
   "source": [
    "df['weather type'].value_counts()"
   ]
  },
  {
   "cell_type": "code",
   "execution_count": 31,
   "metadata": {},
   "outputs": [
    {
     "data": {
      "text/plain": [
       "Text(0.5, 1.0, 'Type of weather')"
      ]
     },
     "execution_count": 31,
     "metadata": {},
     "output_type": "execute_result"
    },
    {
     "data": {
      "image/png": "[encoded data removed]",
      "text/plain": [
       "<Figure size 400x400 with 1 Axes>"
      ]
     },
     "metadata": {},
     "output_type": "display_data"
    }
   ],
   "source": [
    "labels = ['Snowy','Sunny','Rainy','Cloudy']\n",
    "sizes = df['weather type'].value_counts()\n",
    "\n",
    "plt.figure(figsize=(4,4))\n",
    "plt.pie(sizes, labels=labels, autopct='%1.1f%%', startangle=140)\n",
    "\n",
    "plt.axis('equal')\n",
    "plt.title('Type of weather')"
   ]
  },
  {
   "cell_type": "code",
   "execution_count": 32,
   "metadata": {},
   "outputs": [
    {
     "name": "stdout",
     "output_type": "stream",
     "text": [
      "Shape with outliers; (12483, 11)\n",
      "Shape without outliers; (10357, 11)\n"
     ]
    }
   ],
   "source": [
    "cols_outliers = ['temperature','wind speed','atmospheric pressure','uv index','visibility (km)']\n",
    "print(f\"Shape with outliers; {df.shape}\")\n",
    "for col in cols_outliers:\n",
    "    upper_bound = df[col].mean() + (2*df[col].std())\n",
    "    lower_bound = df[col].mean() - (2*df[col].std())\n",
    "    df = df[(df[col] < upper_bound) & (df[col] > lower_bound)]\n",
    "print(f\"Shape without outliers; {df.shape}\")"
   ]
  },
  {
   "cell_type": "code",
   "execution_count": 33,
   "metadata": {},
   "outputs": [
    {
     "data": {
      "text/html": [
       "<div>\n",
       "<style scoped>\n",
       "    .dataframe tbody tr th:only-of-type {\n",
       "        vertical-align: middle;\n",
       "    }\n",
       "\n",
       "    .dataframe tbody tr th {\n",
       "        vertical-align: top;\n",
       "    }\n",
       "\n",
       "    .dataframe thead th {\n",
       "        text-align: right;\n",
       "    }\n",
       "</style>\n",
       "<table border=\"1\" class=\"dataframe\">\n",
       "  <thead>\n",
       "    <tr style=\"text-align: right;\">\n",
       "      <th></th>\n",
       "      <th>temperature</th>\n",
       "      <th>humidity</th>\n",
       "      <th>wind speed</th>\n",
       "      <th>precipitation (%)</th>\n",
       "      <th>cloud cover</th>\n",
       "      <th>atmospheric pressure</th>\n",
       "      <th>uv index</th>\n",
       "      <th>season</th>\n",
       "      <th>visibility (km)</th>\n",
       "      <th>location</th>\n",
       "      <th>weather type</th>\n",
       "    </tr>\n",
       "  </thead>\n",
       "  <tbody>\n",
       "    <tr>\n",
       "      <th>0</th>\n",
       "      <td>14.0</td>\n",
       "      <td>73</td>\n",
       "      <td>9.5</td>\n",
       "      <td>82.0</td>\n",
       "      <td>partly cloudy</td>\n",
       "      <td>1010.82</td>\n",
       "      <td>2</td>\n",
       "      <td>Winter</td>\n",
       "      <td>3.5</td>\n",
       "      <td>inland</td>\n",
       "      <td>1</td>\n",
       "    </tr>\n",
       "    <tr>\n",
       "      <th>1</th>\n",
       "      <td>39.0</td>\n",
       "      <td>96</td>\n",
       "      <td>8.5</td>\n",
       "      <td>71.0</td>\n",
       "      <td>partly cloudy</td>\n",
       "      <td>1011.43</td>\n",
       "      <td>7</td>\n",
       "      <td>Spring</td>\n",
       "      <td>10.0</td>\n",
       "      <td>inland</td>\n",
       "      <td>0</td>\n",
       "    </tr>\n",
       "    <tr>\n",
       "      <th>2</th>\n",
       "      <td>30.0</td>\n",
       "      <td>64</td>\n",
       "      <td>7.0</td>\n",
       "      <td>16.0</td>\n",
       "      <td>clear</td>\n",
       "      <td>1018.72</td>\n",
       "      <td>5</td>\n",
       "      <td>Spring</td>\n",
       "      <td>5.5</td>\n",
       "      <td>mountain</td>\n",
       "      <td>2</td>\n",
       "    </tr>\n",
       "    <tr>\n",
       "      <th>3</th>\n",
       "      <td>38.0</td>\n",
       "      <td>83</td>\n",
       "      <td>1.5</td>\n",
       "      <td>82.0</td>\n",
       "      <td>clear</td>\n",
       "      <td>1026.25</td>\n",
       "      <td>7</td>\n",
       "      <td>Spring</td>\n",
       "      <td>1.0</td>\n",
       "      <td>coastal</td>\n",
       "      <td>2</td>\n",
       "    </tr>\n",
       "    <tr>\n",
       "      <th>4</th>\n",
       "      <td>27.0</td>\n",
       "      <td>74</td>\n",
       "      <td>17.0</td>\n",
       "      <td>66.0</td>\n",
       "      <td>overcast</td>\n",
       "      <td>990.67</td>\n",
       "      <td>1</td>\n",
       "      <td>Winter</td>\n",
       "      <td>2.5</td>\n",
       "      <td>mountain</td>\n",
       "      <td>1</td>\n",
       "    </tr>\n",
       "  </tbody>\n",
       "</table>\n",
       "</div>"
      ],
      "text/plain": [
       "   temperature  humidity  wind speed  precipitation (%)    cloud cover  \\\n",
       "0         14.0        73         9.5               82.0  partly cloudy   \n",
       "1         39.0        96         8.5               71.0  partly cloudy   \n",
       "2         30.0        64         7.0               16.0          clear   \n",
       "3         38.0        83         1.5               82.0          clear   \n",
       "4         27.0        74        17.0               66.0       overcast   \n",
       "\n",
       "   atmospheric pressure  uv index  season  visibility (km)  location  \\\n",
       "0               1010.82         2  Winter              3.5    inland   \n",
       "1               1011.43         7  Spring             10.0    inland   \n",
       "2               1018.72         5  Spring              5.5  mountain   \n",
       "3               1026.25         7  Spring              1.0   coastal   \n",
       "4                990.67         1  Winter              2.5  mountain   \n",
       "\n",
       "   weather type  \n",
       "0             1  \n",
       "1             0  \n",
       "2             2  \n",
       "3             2  \n",
       "4             1  "
      ]
     },
     "execution_count": 33,
     "metadata": {},
     "output_type": "execute_result"
    }
   ],
   "source": [
    "df['weather type'] = df['weather type'].map({'Cloudy':0,'Rainy':1,'Sunny':2,'Snowy':3})\n",
    "df.head()"
   ]
  },
  {
   "cell_type": "code",
   "execution_count": 34,
   "metadata": {},
   "outputs": [],
   "source": [
    "one_cols = ['cloud cover','season','location']\n",
    "scale_cols = ['temperature', 'humidity', 'wind speed', 'precipitation (%)','atmospheric pressure', 'uv index','visibility (km)']\n",
    "\n",
    "scaler = MinMaxScaler()\n",
    "onehot = OneHotEncoder()\n",
    "\n",
    "one_pipe = Pipeline(steps=[\n",
    "    ('onehot',OneHotEncoder())\n",
    "])\n",
    "\n",
    "scale_pipe = Pipeline(steps=[\n",
    "    ('scaler',MinMaxScaler())\n",
    "])\n",
    "\n",
    "preprocessor = ColumnTransformer([\n",
    "    ('one_pipe',one_pipe,one_cols),\n",
    "    ('scale_pipe',scale_pipe,scale_cols)\n",
    "])"
   ]
  },
  {
   "cell_type": "code",
   "execution_count": 35,
   "metadata": {},
   "outputs": [],
   "source": [
    "X = df.drop('weather type',axis=1)\n",
    "y = df['weather type']\n",
    "X_train, X_test, y_train, y_test = train_test_split(X, y, test_size=0.25, random_state=42)\n",
    "\n",
    "X_train = preprocessor.fit_transform(X_train)\n",
    "X_test = preprocessor.transform(X_test)"
   ]
  },
  {
   "cell_type": "code",
   "execution_count": 36,
   "metadata": {},
   "outputs": [],
   "source": [
    "models = {\n",
    "    'Logistic Regression':LogisticRegression(),\n",
    "    'SVC':SVC(),\n",
    "    'KNeighbours':KNeighborsClassifier(),\n",
    "    'Cat Boost':CatBoostClassifier(),\n",
    "    'XGB':XGBClassifier(),\n",
    "    'Decision Tree':DecisionTreeClassifier(),\n",
    "    'Random Forest':RandomForestClassifier(),  \n",
    "}"
   ]
  },
  {
   "cell_type": "code",
   "execution_count": 37,
   "metadata": {},
   "outputs": [
    {
     "name": "stdout",
     "output_type": "stream",
     "text": [
      "Learning rate set to 0.087847\n",
      "0:\tlearn: 1.1580281\ttotal: 500ms\tremaining: 8m 19s\n",
      "1:\tlearn: 0.9922147\ttotal: 547ms\tremaining: 4m 32s\n",
      "2:\tlearn: 0.8631452\ttotal: 572ms\tremaining: 3m 10s\n",
      "3:\tlearn: 0.7611270\ttotal: 586ms\tremaining: 2m 26s\n",
      "4:\tlearn: 0.6751965\ttotal: 632ms\tremaining: 2m 5s\n",
      "5:\tlearn: 0.6039994\ttotal: 653ms\tremaining: 1m 48s\n",
      "6:\tlearn: 0.5431389\ttotal: 667ms\tremaining: 1m 34s\n",
      "7:\tlearn: 0.4911199\ttotal: 684ms\tremaining: 1m 24s\n",
      "8:\tlearn: 0.4466741\ttotal: 693ms\tremaining: 1m 16s\n",
      "9:\tlearn: 0.4065419\ttotal: 718ms\tremaining: 1m 11s\n",
      "10:\tlearn: 0.3721572\ttotal: 738ms\tremaining: 1m 6s\n",
      "11:\tlearn: 0.3415759\ttotal: 755ms\tremaining: 1m 2s\n",
      "12:\tlearn: 0.3140746\ttotal: 770ms\tremaining: 58.5s\n",
      "13:\tlearn: 0.2906300\ttotal: 780ms\tremaining: 55s\n",
      "14:\tlearn: 0.2680574\ttotal: 790ms\tremaining: 51.9s\n",
      "15:\tlearn: 0.2479955\ttotal: 804ms\tremaining: 49.4s\n",
      "16:\tlearn: 0.2307277\ttotal: 815ms\tremaining: 47.1s\n",
      "17:\tlearn: 0.2149692\ttotal: 825ms\tremaining: 45s\n",
      "18:\tlearn: 0.2003616\ttotal: 837ms\tremaining: 43.2s\n",
      "19:\tlearn: 0.1875526\ttotal: 848ms\tremaining: 41.6s\n",
      "20:\tlearn: 0.1756821\ttotal: 858ms\tremaining: 40s\n",
      "21:\tlearn: 0.1648466\ttotal: 873ms\tremaining: 38.8s\n",
      "22:\tlearn: 0.1545517\ttotal: 891ms\tremaining: 37.8s\n",
      "23:\tlearn: 0.1453540\ttotal: 902ms\tremaining: 36.7s\n",
      "24:\tlearn: 0.1371663\ttotal: 913ms\tremaining: 35.6s\n",
      "25:\tlearn: 0.1293394\ttotal: 927ms\tremaining: 34.7s\n",
      "26:\tlearn: 0.1227175\ttotal: 952ms\tremaining: 34.3s\n",
      "27:\tlearn: 0.1166491\ttotal: 967ms\tremaining: 33.6s\n",
      "28:\tlearn: 0.1110182\ttotal: 981ms\tremaining: 32.8s\n",
      "29:\tlearn: 0.1056990\ttotal: 991ms\tremaining: 32s\n",
      "30:\tlearn: 0.1008867\ttotal: 1s\tremaining: 31.3s\n",
      "31:\tlearn: 0.0967076\ttotal: 1.01s\tremaining: 30.7s\n",
      "32:\tlearn: 0.0924414\ttotal: 1.02s\tremaining: 30s\n",
      "33:\tlearn: 0.0886112\ttotal: 1.03s\tremaining: 29.4s\n",
      "34:\tlearn: 0.0851299\ttotal: 1.05s\tremaining: 28.9s\n",
      "35:\tlearn: 0.0829387\ttotal: 1.06s\tremaining: 28.3s\n",
      "36:\tlearn: 0.0802684\ttotal: 1.07s\tremaining: 27.8s\n",
      "37:\tlearn: 0.0774511\ttotal: 1.08s\tremaining: 27.3s\n",
      "38:\tlearn: 0.0750238\ttotal: 1.09s\tremaining: 27s\n",
      "39:\tlearn: 0.0730494\ttotal: 1.11s\tremaining: 26.6s\n",
      "40:\tlearn: 0.0714126\ttotal: 1.14s\tremaining: 26.7s\n",
      "41:\tlearn: 0.0694577\ttotal: 1.15s\tremaining: 26.2s\n",
      "42:\tlearn: 0.0682038\ttotal: 1.16s\tremaining: 25.9s\n",
      "43:\tlearn: 0.0664958\ttotal: 1.18s\tremaining: 25.6s\n",
      "44:\tlearn: 0.0649145\ttotal: 1.19s\tremaining: 25.2s\n",
      "45:\tlearn: 0.0639695\ttotal: 1.2s\tremaining: 24.8s\n",
      "46:\tlearn: 0.0633427\ttotal: 1.21s\tremaining: 24.5s\n",
      "47:\tlearn: 0.0619654\ttotal: 1.22s\tremaining: 24.2s\n",
      "48:\tlearn: 0.0607849\ttotal: 1.23s\tremaining: 23.8s\n",
      "49:\tlearn: 0.0598186\ttotal: 1.24s\tremaining: 23.6s\n",
      "50:\tlearn: 0.0587357\ttotal: 1.25s\tremaining: 23.3s\n",
      "51:\tlearn: 0.0582461\ttotal: 1.26s\tremaining: 23s\n",
      "52:\tlearn: 0.0573158\ttotal: 1.27s\tremaining: 22.8s\n",
      "53:\tlearn: 0.0566491\ttotal: 1.28s\tremaining: 22.5s\n",
      "54:\tlearn: 0.0560642\ttotal: 1.3s\tremaining: 22.3s\n",
      "55:\tlearn: 0.0553272\ttotal: 1.31s\tremaining: 22.1s\n",
      "56:\tlearn: 0.0546708\ttotal: 1.32s\tremaining: 21.9s\n",
      "57:\tlearn: 0.0540996\ttotal: 1.33s\tremaining: 21.7s\n",
      "58:\tlearn: 0.0531556\ttotal: 1.34s\tremaining: 21.4s\n",
      "59:\tlearn: 0.0525671\ttotal: 1.36s\tremaining: 21.2s\n",
      "60:\tlearn: 0.0520383\ttotal: 1.37s\tremaining: 21s\n",
      "61:\tlearn: 0.0515784\ttotal: 1.38s\tremaining: 20.8s\n",
      "62:\tlearn: 0.0510646\ttotal: 1.39s\tremaining: 20.6s\n",
      "63:\tlearn: 0.0507845\ttotal: 1.4s\tremaining: 20.4s\n",
      "64:\tlearn: 0.0504371\ttotal: 1.41s\tremaining: 20.2s\n",
      "65:\tlearn: 0.0499611\ttotal: 1.42s\tremaining: 20.1s\n",
      "66:\tlearn: 0.0497012\ttotal: 1.43s\tremaining: 19.9s\n",
      "67:\tlearn: 0.0492696\ttotal: 1.44s\tremaining: 19.7s\n",
      "68:\tlearn: 0.0488807\ttotal: 1.45s\tremaining: 19.6s\n",
      "69:\tlearn: 0.0484397\ttotal: 1.46s\tremaining: 19.4s\n",
      "70:\tlearn: 0.0480243\ttotal: 1.47s\tremaining: 19.3s\n",
      "71:\tlearn: 0.0477183\ttotal: 1.49s\tremaining: 19.2s\n",
      "72:\tlearn: 0.0472368\ttotal: 1.5s\tremaining: 19s\n",
      "73:\tlearn: 0.0467430\ttotal: 1.51s\tremaining: 18.9s\n",
      "74:\tlearn: 0.0461544\ttotal: 1.52s\tremaining: 18.8s\n",
      "75:\tlearn: 0.0455075\ttotal: 1.53s\tremaining: 18.7s\n",
      "76:\tlearn: 0.0450897\ttotal: 1.55s\tremaining: 18.5s\n",
      "77:\tlearn: 0.0447416\ttotal: 1.56s\tremaining: 18.4s\n",
      "78:\tlearn: 0.0444153\ttotal: 1.57s\tremaining: 18.3s\n",
      "79:\tlearn: 0.0442925\ttotal: 1.58s\tremaining: 18.2s\n",
      "80:\tlearn: 0.0438636\ttotal: 1.59s\tremaining: 18s\n",
      "81:\tlearn: 0.0435931\ttotal: 1.6s\tremaining: 17.9s\n",
      "82:\tlearn: 0.0434563\ttotal: 1.61s\tremaining: 17.8s\n",
      "83:\tlearn: 0.0430346\ttotal: 1.62s\tremaining: 17.7s\n",
      "84:\tlearn: 0.0425597\ttotal: 1.63s\tremaining: 17.6s\n",
      "85:\tlearn: 0.0421497\ttotal: 1.64s\tremaining: 17.5s\n",
      "86:\tlearn: 0.0417734\ttotal: 1.65s\tremaining: 17.3s\n",
      "87:\tlearn: 0.0413235\ttotal: 1.66s\tremaining: 17.2s\n",
      "88:\tlearn: 0.0411535\ttotal: 1.67s\tremaining: 17.1s\n",
      "89:\tlearn: 0.0408563\ttotal: 1.68s\tremaining: 17s\n",
      "90:\tlearn: 0.0406771\ttotal: 1.7s\tremaining: 16.9s\n",
      "91:\tlearn: 0.0401590\ttotal: 1.71s\tremaining: 16.8s\n",
      "92:\tlearn: 0.0400118\ttotal: 1.72s\tremaining: 16.7s\n",
      "93:\tlearn: 0.0397773\ttotal: 1.73s\tremaining: 16.7s\n",
      "94:\tlearn: 0.0395020\ttotal: 1.74s\tremaining: 16.6s\n",
      "95:\tlearn: 0.0391071\ttotal: 1.75s\tremaining: 16.5s\n",
      "96:\tlearn: 0.0388066\ttotal: 1.76s\tremaining: 16.4s\n",
      "97:\tlearn: 0.0384123\ttotal: 1.78s\tremaining: 16.3s\n",
      "98:\tlearn: 0.0382988\ttotal: 1.78s\tremaining: 16.2s\n",
      "99:\tlearn: 0.0380244\ttotal: 1.79s\tremaining: 16.2s\n",
      "100:\tlearn: 0.0375568\ttotal: 1.81s\tremaining: 16.1s\n",
      "101:\tlearn: 0.0373203\ttotal: 1.81s\tremaining: 16s\n",
      "102:\tlearn: 0.0371158\ttotal: 1.83s\tremaining: 15.9s\n",
      "103:\tlearn: 0.0368400\ttotal: 1.84s\tremaining: 15.8s\n",
      "104:\tlearn: 0.0366900\ttotal: 1.84s\tremaining: 15.7s\n",
      "105:\tlearn: 0.0365883\ttotal: 1.86s\tremaining: 15.7s\n",
      "106:\tlearn: 0.0363904\ttotal: 1.86s\tremaining: 15.6s\n",
      "107:\tlearn: 0.0362230\ttotal: 1.88s\tremaining: 15.5s\n",
      "108:\tlearn: 0.0360002\ttotal: 1.89s\tremaining: 15.4s\n",
      "109:\tlearn: 0.0358120\ttotal: 1.9s\tremaining: 15.3s\n",
      "110:\tlearn: 0.0355017\ttotal: 1.91s\tremaining: 15.3s\n",
      "111:\tlearn: 0.0351532\ttotal: 1.92s\tremaining: 15.3s\n",
      "112:\tlearn: 0.0349354\ttotal: 1.94s\tremaining: 15.2s\n",
      "113:\tlearn: 0.0346893\ttotal: 1.95s\tremaining: 15.1s\n",
      "114:\tlearn: 0.0344946\ttotal: 1.96s\tremaining: 15.1s\n",
      "115:\tlearn: 0.0341003\ttotal: 1.97s\tremaining: 15s\n",
      "116:\tlearn: 0.0339204\ttotal: 1.98s\tremaining: 14.9s\n",
      "117:\tlearn: 0.0337308\ttotal: 1.99s\tremaining: 14.9s\n",
      "118:\tlearn: 0.0334963\ttotal: 2s\tremaining: 14.8s\n",
      "119:\tlearn: 0.0330534\ttotal: 2.01s\tremaining: 14.8s\n",
      "120:\tlearn: 0.0329047\ttotal: 2.02s\tremaining: 14.7s\n",
      "121:\tlearn: 0.0327613\ttotal: 2.03s\tremaining: 14.6s\n",
      "122:\tlearn: 0.0326261\ttotal: 2.04s\tremaining: 14.6s\n",
      "123:\tlearn: 0.0324947\ttotal: 2.05s\tremaining: 14.5s\n",
      "124:\tlearn: 0.0323108\ttotal: 2.06s\tremaining: 14.5s\n",
      "125:\tlearn: 0.0322037\ttotal: 2.07s\tremaining: 14.4s\n",
      "126:\tlearn: 0.0320340\ttotal: 2.09s\tremaining: 14.3s\n",
      "127:\tlearn: 0.0319265\ttotal: 2.1s\tremaining: 14.3s\n",
      "128:\tlearn: 0.0316677\ttotal: 2.11s\tremaining: 14.2s\n",
      "129:\tlearn: 0.0315652\ttotal: 2.12s\tremaining: 14.2s\n",
      "130:\tlearn: 0.0314300\ttotal: 2.13s\tremaining: 14.1s\n",
      "131:\tlearn: 0.0311755\ttotal: 2.15s\tremaining: 14.1s\n",
      "132:\tlearn: 0.0310689\ttotal: 2.16s\tremaining: 14.1s\n",
      "133:\tlearn: 0.0308512\ttotal: 2.17s\tremaining: 14s\n",
      "134:\tlearn: 0.0306856\ttotal: 2.18s\tremaining: 14s\n",
      "135:\tlearn: 0.0303622\ttotal: 2.19s\tremaining: 13.9s\n",
      "136:\tlearn: 0.0301980\ttotal: 2.2s\tremaining: 13.9s\n",
      "137:\tlearn: 0.0300049\ttotal: 2.21s\tremaining: 13.8s\n",
      "138:\tlearn: 0.0298469\ttotal: 2.22s\tremaining: 13.7s\n",
      "139:\tlearn: 0.0297196\ttotal: 2.23s\tremaining: 13.7s\n",
      "140:\tlearn: 0.0295288\ttotal: 2.24s\tremaining: 13.6s\n",
      "141:\tlearn: 0.0293797\ttotal: 2.25s\tremaining: 13.6s\n",
      "142:\tlearn: 0.0292015\ttotal: 2.26s\tremaining: 13.5s\n",
      "143:\tlearn: 0.0289687\ttotal: 2.27s\tremaining: 13.5s\n",
      "144:\tlearn: 0.0287117\ttotal: 2.28s\tremaining: 13.4s\n",
      "145:\tlearn: 0.0285746\ttotal: 2.29s\tremaining: 13.4s\n",
      "146:\tlearn: 0.0284423\ttotal: 2.3s\tremaining: 13.3s\n",
      "147:\tlearn: 0.0283904\ttotal: 2.31s\tremaining: 13.3s\n",
      "148:\tlearn: 0.0282956\ttotal: 2.32s\tremaining: 13.2s\n",
      "149:\tlearn: 0.0281730\ttotal: 2.33s\tremaining: 13.2s\n",
      "150:\tlearn: 0.0280036\ttotal: 2.35s\tremaining: 13.2s\n",
      "151:\tlearn: 0.0279452\ttotal: 2.36s\tremaining: 13.2s\n",
      "152:\tlearn: 0.0278357\ttotal: 2.37s\tremaining: 13.1s\n",
      "153:\tlearn: 0.0276898\ttotal: 2.38s\tremaining: 13.1s\n",
      "154:\tlearn: 0.0275698\ttotal: 2.39s\tremaining: 13s\n",
      "155:\tlearn: 0.0273744\ttotal: 2.4s\tremaining: 13s\n",
      "156:\tlearn: 0.0272167\ttotal: 2.42s\tremaining: 13s\n",
      "157:\tlearn: 0.0270785\ttotal: 2.42s\tremaining: 12.9s\n",
      "158:\tlearn: 0.0269660\ttotal: 2.43s\tremaining: 12.9s\n",
      "159:\tlearn: 0.0267407\ttotal: 2.44s\tremaining: 12.8s\n",
      "160:\tlearn: 0.0265373\ttotal: 2.46s\tremaining: 12.8s\n",
      "161:\tlearn: 0.0263856\ttotal: 2.46s\tremaining: 12.7s\n",
      "162:\tlearn: 0.0262793\ttotal: 2.47s\tremaining: 12.7s\n",
      "163:\tlearn: 0.0261502\ttotal: 2.48s\tremaining: 12.7s\n",
      "164:\tlearn: 0.0259580\ttotal: 2.5s\tremaining: 12.6s\n",
      "165:\tlearn: 0.0257450\ttotal: 2.5s\tremaining: 12.6s\n",
      "166:\tlearn: 0.0256946\ttotal: 2.52s\tremaining: 12.6s\n",
      "167:\tlearn: 0.0255998\ttotal: 2.53s\tremaining: 12.5s\n",
      "168:\tlearn: 0.0254457\ttotal: 2.54s\tremaining: 12.5s\n",
      "169:\tlearn: 0.0253587\ttotal: 2.56s\tremaining: 12.5s\n",
      "170:\tlearn: 0.0252858\ttotal: 2.57s\tremaining: 12.5s\n",
      "171:\tlearn: 0.0251442\ttotal: 2.58s\tremaining: 12.4s\n",
      "172:\tlearn: 0.0250102\ttotal: 2.59s\tremaining: 12.4s\n",
      "173:\tlearn: 0.0249478\ttotal: 2.6s\tremaining: 12.3s\n",
      "174:\tlearn: 0.0247891\ttotal: 2.61s\tremaining: 12.3s\n",
      "175:\tlearn: 0.0246601\ttotal: 2.62s\tremaining: 12.3s\n",
      "176:\tlearn: 0.0246059\ttotal: 2.63s\tremaining: 12.2s\n",
      "177:\tlearn: 0.0245579\ttotal: 2.64s\tremaining: 12.2s\n",
      "178:\tlearn: 0.0244773\ttotal: 2.65s\tremaining: 12.1s\n",
      "179:\tlearn: 0.0244085\ttotal: 2.66s\tremaining: 12.1s\n",
      "180:\tlearn: 0.0242435\ttotal: 2.67s\tremaining: 12.1s\n",
      "181:\tlearn: 0.0242094\ttotal: 2.68s\tremaining: 12s\n",
      "182:\tlearn: 0.0241872\ttotal: 2.69s\tremaining: 12s\n",
      "183:\tlearn: 0.0240602\ttotal: 2.69s\tremaining: 12s\n",
      "184:\tlearn: 0.0239649\ttotal: 2.71s\tremaining: 11.9s\n",
      "185:\tlearn: 0.0238533\ttotal: 2.71s\tremaining: 11.9s\n",
      "186:\tlearn: 0.0237892\ttotal: 2.72s\tremaining: 11.8s\n",
      "187:\tlearn: 0.0236829\ttotal: 2.73s\tremaining: 11.8s\n",
      "188:\tlearn: 0.0235161\ttotal: 2.75s\tremaining: 11.8s\n",
      "189:\tlearn: 0.0234016\ttotal: 2.76s\tremaining: 11.8s\n",
      "190:\tlearn: 0.0233599\ttotal: 2.77s\tremaining: 11.7s\n",
      "191:\tlearn: 0.0232891\ttotal: 2.78s\tremaining: 11.7s\n",
      "192:\tlearn: 0.0231333\ttotal: 2.79s\tremaining: 11.7s\n",
      "193:\tlearn: 0.0230669\ttotal: 2.8s\tremaining: 11.6s\n",
      "194:\tlearn: 0.0229553\ttotal: 2.81s\tremaining: 11.6s\n",
      "195:\tlearn: 0.0228237\ttotal: 2.82s\tremaining: 11.6s\n",
      "196:\tlearn: 0.0227621\ttotal: 2.83s\tremaining: 11.5s\n",
      "197:\tlearn: 0.0227121\ttotal: 2.84s\tremaining: 11.5s\n",
      "198:\tlearn: 0.0226182\ttotal: 2.85s\tremaining: 11.5s\n",
      "199:\tlearn: 0.0225789\ttotal: 2.86s\tremaining: 11.5s\n",
      "200:\tlearn: 0.0224617\ttotal: 2.87s\tremaining: 11.4s\n",
      "201:\tlearn: 0.0223716\ttotal: 2.88s\tremaining: 11.4s\n",
      "202:\tlearn: 0.0221732\ttotal: 2.89s\tremaining: 11.4s\n",
      "203:\tlearn: 0.0220731\ttotal: 2.9s\tremaining: 11.3s\n",
      "204:\tlearn: 0.0219388\ttotal: 2.91s\tremaining: 11.3s\n",
      "205:\tlearn: 0.0218405\ttotal: 2.92s\tremaining: 11.3s\n",
      "206:\tlearn: 0.0218088\ttotal: 2.93s\tremaining: 11.2s\n",
      "207:\tlearn: 0.0216975\ttotal: 2.94s\tremaining: 11.2s\n",
      "208:\tlearn: 0.0216260\ttotal: 2.95s\tremaining: 11.2s\n",
      "209:\tlearn: 0.0215054\ttotal: 2.97s\tremaining: 11.2s\n",
      "210:\tlearn: 0.0214091\ttotal: 2.98s\tremaining: 11.1s\n",
      "211:\tlearn: 0.0212983\ttotal: 2.99s\tremaining: 11.1s\n",
      "212:\tlearn: 0.0212349\ttotal: 3s\tremaining: 11.1s\n",
      "213:\tlearn: 0.0210961\ttotal: 3.01s\tremaining: 11.1s\n",
      "214:\tlearn: 0.0209256\ttotal: 3.02s\tremaining: 11s\n",
      "215:\tlearn: 0.0208613\ttotal: 3.04s\tremaining: 11s\n",
      "216:\tlearn: 0.0207739\ttotal: 3.05s\tremaining: 11s\n",
      "217:\tlearn: 0.0206312\ttotal: 3.06s\tremaining: 11s\n",
      "218:\tlearn: 0.0205686\ttotal: 3.06s\tremaining: 10.9s\n",
      "219:\tlearn: 0.0205041\ttotal: 3.08s\tremaining: 10.9s\n",
      "220:\tlearn: 0.0204530\ttotal: 3.08s\tremaining: 10.9s\n",
      "221:\tlearn: 0.0203777\ttotal: 3.1s\tremaining: 10.8s\n",
      "222:\tlearn: 0.0202769\ttotal: 3.1s\tremaining: 10.8s\n",
      "223:\tlearn: 0.0201877\ttotal: 3.11s\tremaining: 10.8s\n",
      "224:\tlearn: 0.0201611\ttotal: 3.12s\tremaining: 10.8s\n",
      "225:\tlearn: 0.0200538\ttotal: 3.13s\tremaining: 10.7s\n",
      "226:\tlearn: 0.0199456\ttotal: 3.14s\tremaining: 10.7s\n",
      "227:\tlearn: 0.0198745\ttotal: 3.15s\tremaining: 10.7s\n",
      "228:\tlearn: 0.0197841\ttotal: 3.17s\tremaining: 10.7s\n",
      "229:\tlearn: 0.0197637\ttotal: 3.18s\tremaining: 10.6s\n",
      "230:\tlearn: 0.0196858\ttotal: 3.19s\tremaining: 10.6s\n",
      "231:\tlearn: 0.0196147\ttotal: 3.2s\tremaining: 10.6s\n",
      "232:\tlearn: 0.0195179\ttotal: 3.21s\tremaining: 10.6s\n",
      "233:\tlearn: 0.0194994\ttotal: 3.22s\tremaining: 10.6s\n",
      "234:\tlearn: 0.0194343\ttotal: 3.23s\tremaining: 10.5s\n",
      "235:\tlearn: 0.0193751\ttotal: 3.24s\tremaining: 10.5s\n",
      "236:\tlearn: 0.0192664\ttotal: 3.25s\tremaining: 10.5s\n",
      "237:\tlearn: 0.0191854\ttotal: 3.26s\tremaining: 10.4s\n",
      "238:\tlearn: 0.0190903\ttotal: 3.27s\tremaining: 10.4s\n",
      "239:\tlearn: 0.0189806\ttotal: 3.28s\tremaining: 10.4s\n",
      "240:\tlearn: 0.0188644\ttotal: 3.29s\tremaining: 10.4s\n",
      "241:\tlearn: 0.0187554\ttotal: 3.3s\tremaining: 10.3s\n",
      "242:\tlearn: 0.0187102\ttotal: 3.31s\tremaining: 10.3s\n",
      "243:\tlearn: 0.0186638\ttotal: 3.32s\tremaining: 10.3s\n",
      "244:\tlearn: 0.0186155\ttotal: 3.33s\tremaining: 10.3s\n",
      "245:\tlearn: 0.0185178\ttotal: 3.34s\tremaining: 10.2s\n",
      "246:\tlearn: 0.0184319\ttotal: 3.35s\tremaining: 10.2s\n",
      "247:\tlearn: 0.0183465\ttotal: 3.36s\tremaining: 10.2s\n",
      "248:\tlearn: 0.0183364\ttotal: 3.38s\tremaining: 10.2s\n",
      "249:\tlearn: 0.0182506\ttotal: 3.39s\tremaining: 10.2s\n",
      "250:\tlearn: 0.0182038\ttotal: 3.4s\tremaining: 10.1s\n",
      "251:\tlearn: 0.0180904\ttotal: 3.41s\tremaining: 10.1s\n",
      "252:\tlearn: 0.0179865\ttotal: 3.42s\tremaining: 10.1s\n",
      "253:\tlearn: 0.0179278\ttotal: 3.43s\tremaining: 10.1s\n",
      "254:\tlearn: 0.0178648\ttotal: 3.44s\tremaining: 10.1s\n",
      "255:\tlearn: 0.0178127\ttotal: 3.46s\tremaining: 10s\n",
      "256:\tlearn: 0.0177306\ttotal: 3.46s\tremaining: 10s\n",
      "257:\tlearn: 0.0176852\ttotal: 3.47s\tremaining: 9.99s\n",
      "258:\tlearn: 0.0176660\ttotal: 3.48s\tremaining: 9.97s\n",
      "259:\tlearn: 0.0175941\ttotal: 3.49s\tremaining: 9.94s\n",
      "260:\tlearn: 0.0175302\ttotal: 3.5s\tremaining: 9.92s\n",
      "261:\tlearn: 0.0174845\ttotal: 3.51s\tremaining: 9.9s\n",
      "262:\tlearn: 0.0174184\ttotal: 3.52s\tremaining: 9.87s\n",
      "263:\tlearn: 0.0173884\ttotal: 3.53s\tremaining: 9.85s\n",
      "264:\tlearn: 0.0173166\ttotal: 3.54s\tremaining: 9.83s\n",
      "265:\tlearn: 0.0172297\ttotal: 3.56s\tremaining: 9.81s\n",
      "266:\tlearn: 0.0171493\ttotal: 3.57s\tremaining: 9.79s\n",
      "267:\tlearn: 0.0170836\ttotal: 3.58s\tremaining: 9.77s\n",
      "268:\tlearn: 0.0169648\ttotal: 3.59s\tremaining: 9.76s\n",
      "269:\tlearn: 0.0168781\ttotal: 3.61s\tremaining: 9.76s\n",
      "270:\tlearn: 0.0168141\ttotal: 3.62s\tremaining: 9.74s\n",
      "271:\tlearn: 0.0167516\ttotal: 3.63s\tremaining: 9.72s\n",
      "272:\tlearn: 0.0167228\ttotal: 3.64s\tremaining: 9.7s\n",
      "273:\tlearn: 0.0167002\ttotal: 3.65s\tremaining: 9.68s\n",
      "274:\tlearn: 0.0166376\ttotal: 3.66s\tremaining: 9.66s\n",
      "275:\tlearn: 0.0165615\ttotal: 3.67s\tremaining: 9.63s\n",
      "276:\tlearn: 0.0165254\ttotal: 3.68s\tremaining: 9.61s\n",
      "277:\tlearn: 0.0164764\ttotal: 3.69s\tremaining: 9.59s\n",
      "278:\tlearn: 0.0164301\ttotal: 3.7s\tremaining: 9.57s\n",
      "279:\tlearn: 0.0163997\ttotal: 3.71s\tremaining: 9.54s\n",
      "280:\tlearn: 0.0163232\ttotal: 3.72s\tremaining: 9.52s\n",
      "281:\tlearn: 0.0162642\ttotal: 3.73s\tremaining: 9.5s\n",
      "282:\tlearn: 0.0161962\ttotal: 3.74s\tremaining: 9.47s\n",
      "283:\tlearn: 0.0161332\ttotal: 3.75s\tremaining: 9.46s\n",
      "284:\tlearn: 0.0160294\ttotal: 3.76s\tremaining: 9.44s\n",
      "285:\tlearn: 0.0159476\ttotal: 3.77s\tremaining: 9.41s\n",
      "286:\tlearn: 0.0159006\ttotal: 3.78s\tremaining: 9.4s\n",
      "287:\tlearn: 0.0158709\ttotal: 3.8s\tremaining: 9.39s\n",
      "288:\tlearn: 0.0157959\ttotal: 3.81s\tremaining: 9.37s\n",
      "289:\tlearn: 0.0157830\ttotal: 3.82s\tremaining: 9.35s\n",
      "290:\tlearn: 0.0156993\ttotal: 3.83s\tremaining: 9.34s\n",
      "291:\tlearn: 0.0156584\ttotal: 3.84s\tremaining: 9.32s\n",
      "292:\tlearn: 0.0156441\ttotal: 3.85s\tremaining: 9.29s\n",
      "293:\tlearn: 0.0155812\ttotal: 3.86s\tremaining: 9.27s\n",
      "294:\tlearn: 0.0155427\ttotal: 3.87s\tremaining: 9.25s\n",
      "295:\tlearn: 0.0154673\ttotal: 3.88s\tremaining: 9.23s\n",
      "296:\tlearn: 0.0154243\ttotal: 3.89s\tremaining: 9.21s\n",
      "297:\tlearn: 0.0153885\ttotal: 3.9s\tremaining: 9.19s\n",
      "298:\tlearn: 0.0153506\ttotal: 3.91s\tremaining: 9.17s\n",
      "299:\tlearn: 0.0153113\ttotal: 3.92s\tremaining: 9.14s\n",
      "300:\tlearn: 0.0152541\ttotal: 3.93s\tremaining: 9.13s\n",
      "301:\tlearn: 0.0151574\ttotal: 3.94s\tremaining: 9.11s\n",
      "302:\tlearn: 0.0151407\ttotal: 3.95s\tremaining: 9.08s\n",
      "303:\tlearn: 0.0150840\ttotal: 3.96s\tremaining: 9.07s\n",
      "304:\tlearn: 0.0150315\ttotal: 3.97s\tremaining: 9.04s\n",
      "305:\tlearn: 0.0149663\ttotal: 3.98s\tremaining: 9.03s\n",
      "306:\tlearn: 0.0148989\ttotal: 3.99s\tremaining: 9.01s\n",
      "307:\tlearn: 0.0148537\ttotal: 4s\tremaining: 9s\n",
      "308:\tlearn: 0.0147887\ttotal: 4.01s\tremaining: 8.98s\n",
      "309:\tlearn: 0.0147653\ttotal: 4.03s\tremaining: 8.96s\n",
      "310:\tlearn: 0.0147098\ttotal: 4.04s\tremaining: 8.95s\n",
      "311:\tlearn: 0.0146941\ttotal: 4.05s\tremaining: 8.93s\n",
      "312:\tlearn: 0.0146102\ttotal: 4.06s\tremaining: 8.91s\n",
      "313:\tlearn: 0.0145659\ttotal: 4.07s\tremaining: 8.89s\n",
      "314:\tlearn: 0.0145220\ttotal: 4.08s\tremaining: 8.88s\n",
      "315:\tlearn: 0.0144786\ttotal: 4.09s\tremaining: 8.86s\n",
      "316:\tlearn: 0.0144369\ttotal: 4.1s\tremaining: 8.84s\n",
      "317:\tlearn: 0.0143677\ttotal: 4.11s\tremaining: 8.82s\n",
      "318:\tlearn: 0.0143393\ttotal: 4.12s\tremaining: 8.8s\n",
      "319:\tlearn: 0.0143075\ttotal: 4.13s\tremaining: 8.77s\n",
      "320:\tlearn: 0.0142321\ttotal: 4.14s\tremaining: 8.76s\n",
      "321:\tlearn: 0.0141725\ttotal: 4.15s\tremaining: 8.73s\n",
      "322:\tlearn: 0.0141122\ttotal: 4.16s\tremaining: 8.72s\n",
      "323:\tlearn: 0.0140427\ttotal: 4.17s\tremaining: 8.7s\n",
      "324:\tlearn: 0.0140204\ttotal: 4.18s\tremaining: 8.68s\n",
      "325:\tlearn: 0.0139783\ttotal: 4.19s\tremaining: 8.66s\n",
      "326:\tlearn: 0.0139092\ttotal: 4.2s\tremaining: 8.65s\n",
      "327:\tlearn: 0.0138606\ttotal: 4.21s\tremaining: 8.63s\n",
      "328:\tlearn: 0.0138270\ttotal: 4.23s\tremaining: 8.62s\n",
      "329:\tlearn: 0.0137917\ttotal: 4.24s\tremaining: 8.61s\n",
      "330:\tlearn: 0.0137258\ttotal: 4.25s\tremaining: 8.59s\n",
      "331:\tlearn: 0.0136844\ttotal: 4.26s\tremaining: 8.57s\n",
      "332:\tlearn: 0.0136441\ttotal: 4.27s\tremaining: 8.55s\n",
      "333:\tlearn: 0.0136136\ttotal: 4.28s\tremaining: 8.53s\n",
      "334:\tlearn: 0.0135848\ttotal: 4.29s\tremaining: 8.51s\n",
      "335:\tlearn: 0.0135222\ttotal: 4.3s\tremaining: 8.5s\n",
      "336:\tlearn: 0.0134839\ttotal: 4.31s\tremaining: 8.48s\n",
      "337:\tlearn: 0.0134245\ttotal: 4.32s\tremaining: 8.46s\n",
      "338:\tlearn: 0.0133470\ttotal: 4.33s\tremaining: 8.44s\n",
      "339:\tlearn: 0.0132903\ttotal: 4.34s\tremaining: 8.42s\n",
      "340:\tlearn: 0.0132416\ttotal: 4.35s\tremaining: 8.41s\n",
      "341:\tlearn: 0.0132170\ttotal: 4.36s\tremaining: 8.39s\n",
      "342:\tlearn: 0.0131884\ttotal: 4.37s\tremaining: 8.37s\n",
      "343:\tlearn: 0.0131453\ttotal: 4.38s\tremaining: 8.35s\n",
      "344:\tlearn: 0.0131320\ttotal: 4.39s\tremaining: 8.34s\n",
      "345:\tlearn: 0.0130991\ttotal: 4.4s\tremaining: 8.32s\n",
      "346:\tlearn: 0.0130632\ttotal: 4.42s\tremaining: 8.31s\n",
      "347:\tlearn: 0.0130138\ttotal: 4.43s\tremaining: 8.29s\n",
      "348:\tlearn: 0.0129915\ttotal: 4.44s\tremaining: 8.29s\n",
      "349:\tlearn: 0.0129523\ttotal: 4.46s\tremaining: 8.28s\n",
      "350:\tlearn: 0.0129138\ttotal: 4.47s\tremaining: 8.26s\n",
      "351:\tlearn: 0.0128978\ttotal: 4.48s\tremaining: 8.24s\n",
      "352:\tlearn: 0.0128247\ttotal: 4.5s\tremaining: 8.25s\n",
      "353:\tlearn: 0.0127769\ttotal: 4.51s\tremaining: 8.24s\n",
      "354:\tlearn: 0.0127349\ttotal: 4.53s\tremaining: 8.23s\n",
      "355:\tlearn: 0.0126990\ttotal: 4.54s\tremaining: 8.21s\n",
      "356:\tlearn: 0.0126860\ttotal: 4.55s\tremaining: 8.2s\n",
      "357:\tlearn: 0.0126468\ttotal: 4.56s\tremaining: 8.19s\n",
      "358:\tlearn: 0.0126164\ttotal: 4.58s\tremaining: 8.17s\n",
      "359:\tlearn: 0.0125689\ttotal: 4.59s\tremaining: 8.16s\n",
      "360:\tlearn: 0.0125394\ttotal: 4.6s\tremaining: 8.14s\n",
      "361:\tlearn: 0.0125163\ttotal: 4.62s\tremaining: 8.13s\n",
      "362:\tlearn: 0.0124838\ttotal: 4.63s\tremaining: 8.12s\n",
      "363:\tlearn: 0.0124409\ttotal: 4.64s\tremaining: 8.11s\n",
      "364:\tlearn: 0.0123670\ttotal: 4.66s\tremaining: 8.11s\n",
      "365:\tlearn: 0.0123073\ttotal: 4.67s\tremaining: 8.1s\n",
      "366:\tlearn: 0.0122546\ttotal: 4.69s\tremaining: 8.09s\n",
      "367:\tlearn: 0.0121962\ttotal: 4.7s\tremaining: 8.08s\n",
      "368:\tlearn: 0.0121591\ttotal: 4.72s\tremaining: 8.06s\n",
      "369:\tlearn: 0.0121364\ttotal: 4.73s\tremaining: 8.05s\n",
      "370:\tlearn: 0.0121182\ttotal: 4.74s\tremaining: 8.04s\n",
      "371:\tlearn: 0.0120674\ttotal: 4.75s\tremaining: 8.02s\n",
      "372:\tlearn: 0.0120186\ttotal: 4.76s\tremaining: 8.01s\n",
      "373:\tlearn: 0.0119574\ttotal: 4.77s\tremaining: 7.99s\n",
      "374:\tlearn: 0.0119237\ttotal: 4.78s\tremaining: 7.97s\n",
      "375:\tlearn: 0.0118988\ttotal: 4.79s\tremaining: 7.96s\n",
      "376:\tlearn: 0.0118453\ttotal: 4.8s\tremaining: 7.94s\n",
      "377:\tlearn: 0.0117987\ttotal: 4.81s\tremaining: 7.92s\n",
      "378:\tlearn: 0.0117713\ttotal: 4.82s\tremaining: 7.91s\n",
      "379:\tlearn: 0.0117536\ttotal: 4.84s\tremaining: 7.89s\n",
      "380:\tlearn: 0.0117214\ttotal: 4.85s\tremaining: 7.88s\n",
      "381:\tlearn: 0.0116996\ttotal: 4.86s\tremaining: 7.87s\n",
      "382:\tlearn: 0.0116628\ttotal: 4.88s\tremaining: 7.85s\n",
      "383:\tlearn: 0.0116223\ttotal: 4.88s\tremaining: 7.83s\n",
      "384:\tlearn: 0.0115774\ttotal: 4.9s\tremaining: 7.82s\n",
      "385:\tlearn: 0.0115583\ttotal: 4.91s\tremaining: 7.81s\n",
      "386:\tlearn: 0.0115196\ttotal: 4.92s\tremaining: 7.79s\n",
      "387:\tlearn: 0.0114696\ttotal: 4.93s\tremaining: 7.78s\n",
      "388:\tlearn: 0.0114347\ttotal: 4.94s\tremaining: 7.76s\n",
      "389:\tlearn: 0.0113941\ttotal: 4.95s\tremaining: 7.75s\n",
      "390:\tlearn: 0.0113460\ttotal: 4.96s\tremaining: 7.73s\n",
      "391:\tlearn: 0.0113386\ttotal: 4.97s\tremaining: 7.71s\n",
      "392:\tlearn: 0.0113116\ttotal: 4.98s\tremaining: 7.7s\n",
      "393:\tlearn: 0.0112652\ttotal: 5s\tremaining: 7.68s\n",
      "394:\tlearn: 0.0112148\ttotal: 5.01s\tremaining: 7.67s\n",
      "395:\tlearn: 0.0111706\ttotal: 5.02s\tremaining: 7.66s\n",
      "396:\tlearn: 0.0111485\ttotal: 5.03s\tremaining: 7.64s\n",
      "397:\tlearn: 0.0111065\ttotal: 5.04s\tremaining: 7.63s\n",
      "398:\tlearn: 0.0110857\ttotal: 5.06s\tremaining: 7.62s\n",
      "399:\tlearn: 0.0110325\ttotal: 5.07s\tremaining: 7.61s\n",
      "400:\tlearn: 0.0109941\ttotal: 5.08s\tremaining: 7.59s\n",
      "401:\tlearn: 0.0109627\ttotal: 5.09s\tremaining: 7.58s\n",
      "402:\tlearn: 0.0109050\ttotal: 5.1s\tremaining: 7.56s\n",
      "403:\tlearn: 0.0108727\ttotal: 5.12s\tremaining: 7.55s\n",
      "404:\tlearn: 0.0108454\ttotal: 5.12s\tremaining: 7.53s\n",
      "405:\tlearn: 0.0108099\ttotal: 5.13s\tremaining: 7.51s\n",
      "406:\tlearn: 0.0107779\ttotal: 5.15s\tremaining: 7.5s\n",
      "407:\tlearn: 0.0107371\ttotal: 5.16s\tremaining: 7.48s\n",
      "408:\tlearn: 0.0107129\ttotal: 5.17s\tremaining: 7.47s\n",
      "409:\tlearn: 0.0106813\ttotal: 5.18s\tremaining: 7.45s\n",
      "410:\tlearn: 0.0106597\ttotal: 5.19s\tremaining: 7.43s\n",
      "411:\tlearn: 0.0106358\ttotal: 5.2s\tremaining: 7.42s\n",
      "412:\tlearn: 0.0106191\ttotal: 5.21s\tremaining: 7.4s\n",
      "413:\tlearn: 0.0105901\ttotal: 5.22s\tremaining: 7.39s\n",
      "414:\tlearn: 0.0105655\ttotal: 5.23s\tremaining: 7.37s\n",
      "415:\tlearn: 0.0105322\ttotal: 5.24s\tremaining: 7.36s\n",
      "416:\tlearn: 0.0105037\ttotal: 5.25s\tremaining: 7.34s\n",
      "417:\tlearn: 0.0104789\ttotal: 5.27s\tremaining: 7.33s\n",
      "418:\tlearn: 0.0104530\ttotal: 5.28s\tremaining: 7.32s\n",
      "419:\tlearn: 0.0104233\ttotal: 5.29s\tremaining: 7.31s\n",
      "420:\tlearn: 0.0104022\ttotal: 5.3s\tremaining: 7.29s\n",
      "421:\tlearn: 0.0103780\ttotal: 5.31s\tremaining: 7.28s\n",
      "422:\tlearn: 0.0103425\ttotal: 5.32s\tremaining: 7.26s\n",
      "423:\tlearn: 0.0103236\ttotal: 5.34s\tremaining: 7.25s\n",
      "424:\tlearn: 0.0102888\ttotal: 5.35s\tremaining: 7.24s\n",
      "425:\tlearn: 0.0102690\ttotal: 5.36s\tremaining: 7.22s\n",
      "426:\tlearn: 0.0102362\ttotal: 5.38s\tremaining: 7.21s\n",
      "427:\tlearn: 0.0102143\ttotal: 5.38s\tremaining: 7.2s\n",
      "428:\tlearn: 0.0101868\ttotal: 5.4s\tremaining: 7.18s\n",
      "429:\tlearn: 0.0101645\ttotal: 5.41s\tremaining: 7.17s\n",
      "430:\tlearn: 0.0101439\ttotal: 5.42s\tremaining: 7.15s\n",
      "431:\tlearn: 0.0101130\ttotal: 5.43s\tremaining: 7.14s\n",
      "432:\tlearn: 0.0100919\ttotal: 5.44s\tremaining: 7.12s\n",
      "433:\tlearn: 0.0100572\ttotal: 5.45s\tremaining: 7.11s\n",
      "434:\tlearn: 0.0100330\ttotal: 5.46s\tremaining: 7.1s\n",
      "435:\tlearn: 0.0100002\ttotal: 5.48s\tremaining: 7.09s\n",
      "436:\tlearn: 0.0099688\ttotal: 5.49s\tremaining: 7.07s\n",
      "437:\tlearn: 0.0099426\ttotal: 5.5s\tremaining: 7.06s\n",
      "438:\tlearn: 0.0098927\ttotal: 5.51s\tremaining: 7.04s\n",
      "439:\tlearn: 0.0098757\ttotal: 5.52s\tremaining: 7.03s\n",
      "440:\tlearn: 0.0098365\ttotal: 5.54s\tremaining: 7.02s\n",
      "441:\tlearn: 0.0098018\ttotal: 5.54s\tremaining: 7s\n",
      "442:\tlearn: 0.0097570\ttotal: 5.56s\tremaining: 6.99s\n",
      "443:\tlearn: 0.0097104\ttotal: 5.57s\tremaining: 6.97s\n",
      "444:\tlearn: 0.0096810\ttotal: 5.58s\tremaining: 6.96s\n",
      "445:\tlearn: 0.0096344\ttotal: 5.59s\tremaining: 6.94s\n",
      "446:\tlearn: 0.0096129\ttotal: 5.6s\tremaining: 6.93s\n",
      "447:\tlearn: 0.0095921\ttotal: 5.61s\tremaining: 6.91s\n",
      "448:\tlearn: 0.0095511\ttotal: 5.62s\tremaining: 6.9s\n",
      "449:\tlearn: 0.0095257\ttotal: 5.63s\tremaining: 6.88s\n",
      "450:\tlearn: 0.0094916\ttotal: 5.64s\tremaining: 6.87s\n",
      "451:\tlearn: 0.0094405\ttotal: 5.65s\tremaining: 6.86s\n",
      "452:\tlearn: 0.0094237\ttotal: 5.67s\tremaining: 6.84s\n",
      "453:\tlearn: 0.0093839\ttotal: 5.68s\tremaining: 6.83s\n",
      "454:\tlearn: 0.0093643\ttotal: 5.69s\tremaining: 6.82s\n",
      "455:\tlearn: 0.0093375\ttotal: 5.71s\tremaining: 6.81s\n",
      "456:\tlearn: 0.0093135\ttotal: 5.72s\tremaining: 6.79s\n",
      "457:\tlearn: 0.0092828\ttotal: 5.73s\tremaining: 6.78s\n",
      "458:\tlearn: 0.0092661\ttotal: 5.74s\tremaining: 6.76s\n",
      "459:\tlearn: 0.0092342\ttotal: 5.75s\tremaining: 6.75s\n",
      "460:\tlearn: 0.0092114\ttotal: 5.76s\tremaining: 6.73s\n",
      "461:\tlearn: 0.0092052\ttotal: 5.77s\tremaining: 6.72s\n",
      "462:\tlearn: 0.0091537\ttotal: 5.78s\tremaining: 6.71s\n",
      "463:\tlearn: 0.0091401\ttotal: 5.79s\tremaining: 6.69s\n",
      "464:\tlearn: 0.0091234\ttotal: 5.8s\tremaining: 6.68s\n",
      "465:\tlearn: 0.0090856\ttotal: 5.81s\tremaining: 6.66s\n",
      "466:\tlearn: 0.0090631\ttotal: 5.82s\tremaining: 6.65s\n",
      "467:\tlearn: 0.0090483\ttotal: 5.83s\tremaining: 6.63s\n",
      "468:\tlearn: 0.0090107\ttotal: 5.84s\tremaining: 6.62s\n",
      "469:\tlearn: 0.0089928\ttotal: 5.86s\tremaining: 6.6s\n",
      "470:\tlearn: 0.0089743\ttotal: 5.87s\tremaining: 6.59s\n",
      "471:\tlearn: 0.0089456\ttotal: 5.88s\tremaining: 6.58s\n",
      "472:\tlearn: 0.0089234\ttotal: 5.89s\tremaining: 6.56s\n",
      "473:\tlearn: 0.0089008\ttotal: 5.91s\tremaining: 6.55s\n",
      "474:\tlearn: 0.0088711\ttotal: 5.92s\tremaining: 6.54s\n",
      "475:\tlearn: 0.0088528\ttotal: 5.93s\tremaining: 6.53s\n",
      "476:\tlearn: 0.0088235\ttotal: 5.95s\tremaining: 6.52s\n",
      "477:\tlearn: 0.0088052\ttotal: 5.95s\tremaining: 6.5s\n",
      "478:\tlearn: 0.0087782\ttotal: 5.96s\tremaining: 6.49s\n",
      "479:\tlearn: 0.0087645\ttotal: 5.98s\tremaining: 6.47s\n",
      "480:\tlearn: 0.0087488\ttotal: 5.99s\tremaining: 6.46s\n",
      "481:\tlearn: 0.0087153\ttotal: 6s\tremaining: 6.44s\n",
      "482:\tlearn: 0.0086919\ttotal: 6.01s\tremaining: 6.43s\n",
      "483:\tlearn: 0.0086739\ttotal: 6.02s\tremaining: 6.41s\n",
      "484:\tlearn: 0.0086466\ttotal: 6.03s\tremaining: 6.4s\n",
      "485:\tlearn: 0.0086310\ttotal: 6.04s\tremaining: 6.39s\n",
      "486:\tlearn: 0.0086032\ttotal: 6.05s\tremaining: 6.37s\n",
      "487:\tlearn: 0.0085853\ttotal: 6.06s\tremaining: 6.36s\n",
      "488:\tlearn: 0.0085711\ttotal: 6.07s\tremaining: 6.34s\n",
      "489:\tlearn: 0.0085523\ttotal: 6.08s\tremaining: 6.33s\n",
      "490:\tlearn: 0.0085367\ttotal: 6.09s\tremaining: 6.32s\n",
      "491:\tlearn: 0.0084819\ttotal: 6.11s\tremaining: 6.3s\n",
      "492:\tlearn: 0.0084712\ttotal: 6.12s\tremaining: 6.29s\n",
      "493:\tlearn: 0.0084483\ttotal: 6.13s\tremaining: 6.28s\n",
      "494:\tlearn: 0.0084387\ttotal: 6.14s\tremaining: 6.27s\n",
      "495:\tlearn: 0.0084241\ttotal: 6.15s\tremaining: 6.25s\n",
      "496:\tlearn: 0.0084056\ttotal: 6.16s\tremaining: 6.24s\n",
      "497:\tlearn: 0.0083949\ttotal: 6.17s\tremaining: 6.22s\n",
      "498:\tlearn: 0.0083733\ttotal: 6.18s\tremaining: 6.21s\n",
      "499:\tlearn: 0.0083566\ttotal: 6.19s\tremaining: 6.19s\n",
      "500:\tlearn: 0.0083500\ttotal: 6.2s\tremaining: 6.18s\n",
      "501:\tlearn: 0.0083214\ttotal: 6.21s\tremaining: 6.16s\n",
      "502:\tlearn: 0.0083104\ttotal: 6.22s\tremaining: 6.15s\n",
      "503:\tlearn: 0.0082945\ttotal: 6.24s\tremaining: 6.14s\n",
      "504:\tlearn: 0.0082649\ttotal: 6.25s\tremaining: 6.12s\n",
      "505:\tlearn: 0.0082475\ttotal: 6.26s\tremaining: 6.11s\n",
      "506:\tlearn: 0.0082288\ttotal: 6.27s\tremaining: 6.1s\n",
      "507:\tlearn: 0.0082005\ttotal: 6.28s\tremaining: 6.08s\n",
      "508:\tlearn: 0.0081729\ttotal: 6.35s\tremaining: 6.13s\n",
      "509:\tlearn: 0.0081608\ttotal: 6.42s\tremaining: 6.17s\n",
      "510:\tlearn: 0.0081487\ttotal: 6.47s\tremaining: 6.19s\n",
      "511:\tlearn: 0.0081241\ttotal: 6.55s\tremaining: 6.25s\n",
      "512:\tlearn: 0.0081000\ttotal: 6.57s\tremaining: 6.24s\n",
      "513:\tlearn: 0.0080746\ttotal: 6.59s\tremaining: 6.23s\n",
      "514:\tlearn: 0.0080531\ttotal: 6.6s\tremaining: 6.22s\n",
      "515:\tlearn: 0.0080204\ttotal: 6.62s\tremaining: 6.21s\n",
      "516:\tlearn: 0.0079947\ttotal: 6.64s\tremaining: 6.2s\n",
      "517:\tlearn: 0.0079693\ttotal: 6.65s\tremaining: 6.19s\n",
      "518:\tlearn: 0.0079463\ttotal: 6.67s\tremaining: 6.18s\n",
      "519:\tlearn: 0.0079325\ttotal: 6.68s\tremaining: 6.17s\n",
      "520:\tlearn: 0.0079016\ttotal: 6.69s\tremaining: 6.15s\n",
      "521:\tlearn: 0.0078860\ttotal: 6.71s\tremaining: 6.14s\n",
      "522:\tlearn: 0.0078518\ttotal: 6.72s\tremaining: 6.13s\n",
      "523:\tlearn: 0.0078278\ttotal: 6.73s\tremaining: 6.11s\n",
      "524:\tlearn: 0.0078133\ttotal: 6.74s\tremaining: 6.1s\n",
      "525:\tlearn: 0.0077917\ttotal: 6.75s\tremaining: 6.09s\n",
      "526:\tlearn: 0.0077699\ttotal: 6.77s\tremaining: 6.08s\n",
      "527:\tlearn: 0.0077501\ttotal: 6.79s\tremaining: 6.07s\n",
      "528:\tlearn: 0.0077377\ttotal: 6.8s\tremaining: 6.06s\n",
      "529:\tlearn: 0.0077123\ttotal: 6.82s\tremaining: 6.05s\n",
      "530:\tlearn: 0.0076936\ttotal: 6.84s\tremaining: 6.04s\n",
      "531:\tlearn: 0.0076803\ttotal: 6.86s\tremaining: 6.03s\n",
      "532:\tlearn: 0.0076651\ttotal: 6.87s\tremaining: 6.02s\n",
      "533:\tlearn: 0.0076277\ttotal: 6.89s\tremaining: 6.01s\n",
      "534:\tlearn: 0.0076024\ttotal: 6.9s\tremaining: 6s\n",
      "535:\tlearn: 0.0075945\ttotal: 6.92s\tremaining: 5.99s\n",
      "536:\tlearn: 0.0075854\ttotal: 6.93s\tremaining: 5.97s\n",
      "537:\tlearn: 0.0075739\ttotal: 6.94s\tremaining: 5.96s\n",
      "538:\tlearn: 0.0075532\ttotal: 6.95s\tremaining: 5.95s\n",
      "539:\tlearn: 0.0075339\ttotal: 6.96s\tremaining: 5.93s\n",
      "540:\tlearn: 0.0075217\ttotal: 6.97s\tremaining: 5.92s\n",
      "541:\tlearn: 0.0075092\ttotal: 6.98s\tremaining: 5.9s\n",
      "542:\tlearn: 0.0074911\ttotal: 6.99s\tremaining: 5.88s\n",
      "543:\tlearn: 0.0074794\ttotal: 7s\tremaining: 5.87s\n",
      "544:\tlearn: 0.0074570\ttotal: 7.01s\tremaining: 5.86s\n",
      "545:\tlearn: 0.0074402\ttotal: 7.03s\tremaining: 5.84s\n",
      "546:\tlearn: 0.0074283\ttotal: 7.04s\tremaining: 5.83s\n",
      "547:\tlearn: 0.0074146\ttotal: 7.05s\tremaining: 5.82s\n",
      "548:\tlearn: 0.0073951\ttotal: 7.06s\tremaining: 5.8s\n",
      "549:\tlearn: 0.0073801\ttotal: 7.07s\tremaining: 5.79s\n",
      "550:\tlearn: 0.0073612\ttotal: 7.08s\tremaining: 5.77s\n",
      "551:\tlearn: 0.0073219\ttotal: 7.09s\tremaining: 5.76s\n",
      "552:\tlearn: 0.0072793\ttotal: 7.14s\tremaining: 5.77s\n",
      "553:\tlearn: 0.0072636\ttotal: 7.19s\tremaining: 5.79s\n",
      "554:\tlearn: 0.0072547\ttotal: 7.22s\tremaining: 5.79s\n",
      "555:\tlearn: 0.0072375\ttotal: 7.25s\tremaining: 5.79s\n",
      "556:\tlearn: 0.0072224\ttotal: 7.29s\tremaining: 5.79s\n",
      "557:\tlearn: 0.0072079\ttotal: 7.3s\tremaining: 5.78s\n",
      "558:\tlearn: 0.0071886\ttotal: 7.31s\tremaining: 5.77s\n",
      "559:\tlearn: 0.0071566\ttotal: 7.33s\tremaining: 5.76s\n",
      "560:\tlearn: 0.0071402\ttotal: 7.33s\tremaining: 5.74s\n",
      "561:\tlearn: 0.0071224\ttotal: 7.34s\tremaining: 5.72s\n",
      "562:\tlearn: 0.0071042\ttotal: 7.36s\tremaining: 5.71s\n",
      "563:\tlearn: 0.0070804\ttotal: 7.37s\tremaining: 5.69s\n",
      "564:\tlearn: 0.0070629\ttotal: 7.38s\tremaining: 5.68s\n",
      "565:\tlearn: 0.0070418\ttotal: 7.39s\tremaining: 5.66s\n",
      "566:\tlearn: 0.0070361\ttotal: 7.4s\tremaining: 5.65s\n",
      "567:\tlearn: 0.0070080\ttotal: 7.41s\tremaining: 5.63s\n",
      "568:\tlearn: 0.0069732\ttotal: 7.42s\tremaining: 5.62s\n",
      "569:\tlearn: 0.0069556\ttotal: 7.43s\tremaining: 5.61s\n",
      "570:\tlearn: 0.0069448\ttotal: 7.44s\tremaining: 5.59s\n",
      "571:\tlearn: 0.0069311\ttotal: 7.49s\tremaining: 5.6s\n",
      "572:\tlearn: 0.0069068\ttotal: 7.5s\tremaining: 5.59s\n",
      "573:\tlearn: 0.0068959\ttotal: 7.51s\tremaining: 5.57s\n",
      "574:\tlearn: 0.0068837\ttotal: 7.52s\tremaining: 5.56s\n",
      "575:\tlearn: 0.0068694\ttotal: 7.53s\tremaining: 5.54s\n",
      "576:\tlearn: 0.0068600\ttotal: 7.54s\tremaining: 5.53s\n",
      "577:\tlearn: 0.0068493\ttotal: 7.55s\tremaining: 5.51s\n",
      "578:\tlearn: 0.0068194\ttotal: 7.56s\tremaining: 5.49s\n",
      "579:\tlearn: 0.0068071\ttotal: 7.57s\tremaining: 5.48s\n",
      "580:\tlearn: 0.0067937\ttotal: 7.58s\tremaining: 5.46s\n",
      "581:\tlearn: 0.0067619\ttotal: 7.59s\tremaining: 5.45s\n",
      "582:\tlearn: 0.0067522\ttotal: 7.6s\tremaining: 5.44s\n",
      "583:\tlearn: 0.0067357\ttotal: 7.61s\tremaining: 5.42s\n",
      "584:\tlearn: 0.0067105\ttotal: 7.62s\tremaining: 5.41s\n",
      "585:\tlearn: 0.0066845\ttotal: 7.63s\tremaining: 5.39s\n",
      "586:\tlearn: 0.0066642\ttotal: 7.64s\tremaining: 5.38s\n",
      "587:\tlearn: 0.0066546\ttotal: 7.66s\tremaining: 5.36s\n",
      "588:\tlearn: 0.0066413\ttotal: 7.67s\tremaining: 5.35s\n",
      "589:\tlearn: 0.0066203\ttotal: 7.68s\tremaining: 5.34s\n",
      "590:\tlearn: 0.0066014\ttotal: 7.69s\tremaining: 5.32s\n",
      "591:\tlearn: 0.0065884\ttotal: 7.7s\tremaining: 5.31s\n",
      "592:\tlearn: 0.0065749\ttotal: 7.71s\tremaining: 5.29s\n",
      "593:\tlearn: 0.0065608\ttotal: 7.72s\tremaining: 5.28s\n",
      "594:\tlearn: 0.0065516\ttotal: 7.73s\tremaining: 5.26s\n",
      "595:\tlearn: 0.0065427\ttotal: 7.74s\tremaining: 5.25s\n",
      "596:\tlearn: 0.0065138\ttotal: 7.75s\tremaining: 5.23s\n",
      "597:\tlearn: 0.0065017\ttotal: 7.76s\tremaining: 5.22s\n",
      "598:\tlearn: 0.0064925\ttotal: 7.77s\tremaining: 5.2s\n",
      "599:\tlearn: 0.0064755\ttotal: 7.78s\tremaining: 5.19s\n",
      "600:\tlearn: 0.0064568\ttotal: 7.79s\tremaining: 5.17s\n",
      "601:\tlearn: 0.0064505\ttotal: 7.8s\tremaining: 5.16s\n",
      "602:\tlearn: 0.0064410\ttotal: 7.81s\tremaining: 5.14s\n",
      "603:\tlearn: 0.0064339\ttotal: 7.82s\tremaining: 5.13s\n",
      "604:\tlearn: 0.0064212\ttotal: 7.83s\tremaining: 5.11s\n",
      "605:\tlearn: 0.0064120\ttotal: 7.84s\tremaining: 5.1s\n",
      "606:\tlearn: 0.0063897\ttotal: 7.86s\tremaining: 5.09s\n",
      "607:\tlearn: 0.0063828\ttotal: 7.87s\tremaining: 5.08s\n",
      "608:\tlearn: 0.0063612\ttotal: 7.88s\tremaining: 5.06s\n",
      "609:\tlearn: 0.0063512\ttotal: 7.89s\tremaining: 5.05s\n",
      "610:\tlearn: 0.0063297\ttotal: 7.9s\tremaining: 5.03s\n",
      "611:\tlearn: 0.0063197\ttotal: 7.92s\tremaining: 5.02s\n",
      "612:\tlearn: 0.0063044\ttotal: 7.93s\tremaining: 5s\n",
      "613:\tlearn: 0.0062895\ttotal: 7.93s\tremaining: 4.99s\n",
      "614:\tlearn: 0.0062719\ttotal: 7.95s\tremaining: 4.97s\n",
      "615:\tlearn: 0.0062550\ttotal: 7.96s\tremaining: 4.96s\n",
      "616:\tlearn: 0.0062388\ttotal: 7.97s\tremaining: 4.95s\n",
      "617:\tlearn: 0.0062198\ttotal: 7.98s\tremaining: 4.93s\n",
      "618:\tlearn: 0.0062014\ttotal: 7.99s\tremaining: 4.92s\n",
      "619:\tlearn: 0.0061913\ttotal: 8s\tremaining: 4.9s\n",
      "620:\tlearn: 0.0061667\ttotal: 8.01s\tremaining: 4.89s\n",
      "621:\tlearn: 0.0061593\ttotal: 8.02s\tremaining: 4.87s\n",
      "622:\tlearn: 0.0061455\ttotal: 8.03s\tremaining: 4.86s\n",
      "623:\tlearn: 0.0061408\ttotal: 8.04s\tremaining: 4.84s\n",
      "624:\tlearn: 0.0061326\ttotal: 8.05s\tremaining: 4.83s\n",
      "625:\tlearn: 0.0061100\ttotal: 8.07s\tremaining: 4.82s\n",
      "626:\tlearn: 0.0060856\ttotal: 8.08s\tremaining: 4.81s\n",
      "627:\tlearn: 0.0060758\ttotal: 8.09s\tremaining: 4.79s\n",
      "628:\tlearn: 0.0060630\ttotal: 8.11s\tremaining: 4.78s\n",
      "629:\tlearn: 0.0060463\ttotal: 8.12s\tremaining: 4.77s\n",
      "630:\tlearn: 0.0060234\ttotal: 8.13s\tremaining: 4.75s\n",
      "631:\tlearn: 0.0060181\ttotal: 8.14s\tremaining: 4.74s\n",
      "632:\tlearn: 0.0059997\ttotal: 8.15s\tremaining: 4.72s\n",
      "633:\tlearn: 0.0059920\ttotal: 8.16s\tremaining: 4.71s\n",
      "634:\tlearn: 0.0059762\ttotal: 8.17s\tremaining: 4.7s\n",
      "635:\tlearn: 0.0059624\ttotal: 8.18s\tremaining: 4.68s\n",
      "636:\tlearn: 0.0059501\ttotal: 8.19s\tremaining: 4.67s\n",
      "637:\tlearn: 0.0059380\ttotal: 8.2s\tremaining: 4.65s\n",
      "638:\tlearn: 0.0059253\ttotal: 8.21s\tremaining: 4.64s\n",
      "639:\tlearn: 0.0059080\ttotal: 8.22s\tremaining: 4.63s\n",
      "640:\tlearn: 0.0058943\ttotal: 8.23s\tremaining: 4.61s\n",
      "641:\tlearn: 0.0058739\ttotal: 8.24s\tremaining: 4.6s\n",
      "642:\tlearn: 0.0058623\ttotal: 8.26s\tremaining: 4.58s\n",
      "643:\tlearn: 0.0058513\ttotal: 8.27s\tremaining: 4.57s\n",
      "644:\tlearn: 0.0058475\ttotal: 8.29s\tremaining: 4.56s\n",
      "645:\tlearn: 0.0058454\ttotal: 8.3s\tremaining: 4.55s\n",
      "646:\tlearn: 0.0058352\ttotal: 8.31s\tremaining: 4.53s\n",
      "647:\tlearn: 0.0058196\ttotal: 8.32s\tremaining: 4.52s\n",
      "648:\tlearn: 0.0058113\ttotal: 8.34s\tremaining: 4.51s\n",
      "649:\tlearn: 0.0057975\ttotal: 8.35s\tremaining: 4.5s\n",
      "650:\tlearn: 0.0057810\ttotal: 8.36s\tremaining: 4.48s\n",
      "651:\tlearn: 0.0057751\ttotal: 8.37s\tremaining: 4.47s\n",
      "652:\tlearn: 0.0057624\ttotal: 8.38s\tremaining: 4.45s\n",
      "653:\tlearn: 0.0057448\ttotal: 8.39s\tremaining: 4.44s\n",
      "654:\tlearn: 0.0057353\ttotal: 8.4s\tremaining: 4.43s\n",
      "655:\tlearn: 0.0057269\ttotal: 8.41s\tremaining: 4.41s\n",
      "656:\tlearn: 0.0057161\ttotal: 8.42s\tremaining: 4.4s\n",
      "657:\tlearn: 0.0057013\ttotal: 8.44s\tremaining: 4.38s\n",
      "658:\tlearn: 0.0056951\ttotal: 8.45s\tremaining: 4.37s\n",
      "659:\tlearn: 0.0056898\ttotal: 8.46s\tremaining: 4.36s\n",
      "660:\tlearn: 0.0056824\ttotal: 8.47s\tremaining: 4.34s\n",
      "661:\tlearn: 0.0056711\ttotal: 8.48s\tremaining: 4.33s\n",
      "662:\tlearn: 0.0056591\ttotal: 8.49s\tremaining: 4.32s\n",
      "663:\tlearn: 0.0056523\ttotal: 8.5s\tremaining: 4.3s\n",
      "664:\tlearn: 0.0056409\ttotal: 8.52s\tremaining: 4.29s\n",
      "665:\tlearn: 0.0056265\ttotal: 8.52s\tremaining: 4.27s\n",
      "666:\tlearn: 0.0056136\ttotal: 8.54s\tremaining: 4.26s\n",
      "667:\tlearn: 0.0056049\ttotal: 8.55s\tremaining: 4.25s\n",
      "668:\tlearn: 0.0055920\ttotal: 8.55s\tremaining: 4.23s\n",
      "669:\tlearn: 0.0055816\ttotal: 8.57s\tremaining: 4.22s\n",
      "670:\tlearn: 0.0055749\ttotal: 8.58s\tremaining: 4.2s\n",
      "671:\tlearn: 0.0055680\ttotal: 8.59s\tremaining: 4.19s\n",
      "672:\tlearn: 0.0055516\ttotal: 8.6s\tremaining: 4.18s\n",
      "673:\tlearn: 0.0055398\ttotal: 8.6s\tremaining: 4.16s\n",
      "674:\tlearn: 0.0055269\ttotal: 8.61s\tremaining: 4.15s\n",
      "675:\tlearn: 0.0055046\ttotal: 8.62s\tremaining: 4.13s\n",
      "676:\tlearn: 0.0054916\ttotal: 8.63s\tremaining: 4.12s\n",
      "677:\tlearn: 0.0054854\ttotal: 8.65s\tremaining: 4.11s\n",
      "678:\tlearn: 0.0054803\ttotal: 8.65s\tremaining: 4.09s\n",
      "679:\tlearn: 0.0054743\ttotal: 8.66s\tremaining: 4.08s\n",
      "680:\tlearn: 0.0054698\ttotal: 8.68s\tremaining: 4.06s\n",
      "681:\tlearn: 0.0054587\ttotal: 8.7s\tremaining: 4.05s\n",
      "682:\tlearn: 0.0054424\ttotal: 8.71s\tremaining: 4.04s\n",
      "683:\tlearn: 0.0054328\ttotal: 8.73s\tremaining: 4.03s\n",
      "684:\tlearn: 0.0054119\ttotal: 8.74s\tremaining: 4.02s\n",
      "685:\tlearn: 0.0053939\ttotal: 8.75s\tremaining: 4s\n",
      "686:\tlearn: 0.0053900\ttotal: 8.76s\tremaining: 3.99s\n",
      "687:\tlearn: 0.0053812\ttotal: 8.77s\tremaining: 3.98s\n",
      "688:\tlearn: 0.0053717\ttotal: 8.78s\tremaining: 3.96s\n",
      "689:\tlearn: 0.0053619\ttotal: 8.79s\tremaining: 3.95s\n",
      "690:\tlearn: 0.0053457\ttotal: 8.8s\tremaining: 3.94s\n",
      "691:\tlearn: 0.0053343\ttotal: 8.82s\tremaining: 3.92s\n",
      "692:\tlearn: 0.0053117\ttotal: 8.83s\tremaining: 3.91s\n",
      "693:\tlearn: 0.0053012\ttotal: 8.85s\tremaining: 3.9s\n",
      "694:\tlearn: 0.0052789\ttotal: 8.87s\tremaining: 3.89s\n",
      "695:\tlearn: 0.0052716\ttotal: 8.88s\tremaining: 3.88s\n",
      "696:\tlearn: 0.0052527\ttotal: 8.9s\tremaining: 3.87s\n",
      "697:\tlearn: 0.0052330\ttotal: 8.91s\tremaining: 3.86s\n",
      "698:\tlearn: 0.0052239\ttotal: 8.93s\tremaining: 3.84s\n",
      "699:\tlearn: 0.0052126\ttotal: 8.94s\tremaining: 3.83s\n",
      "700:\tlearn: 0.0052052\ttotal: 8.96s\tremaining: 3.82s\n",
      "701:\tlearn: 0.0051917\ttotal: 8.97s\tremaining: 3.81s\n",
      "702:\tlearn: 0.0051888\ttotal: 8.98s\tremaining: 3.79s\n",
      "703:\tlearn: 0.0051748\ttotal: 8.99s\tremaining: 3.78s\n",
      "704:\tlearn: 0.0051690\ttotal: 9.01s\tremaining: 3.77s\n",
      "705:\tlearn: 0.0051590\ttotal: 9.02s\tremaining: 3.76s\n",
      "706:\tlearn: 0.0051503\ttotal: 9.03s\tremaining: 3.74s\n",
      "707:\tlearn: 0.0051425\ttotal: 9.04s\tremaining: 3.73s\n",
      "708:\tlearn: 0.0051278\ttotal: 9.05s\tremaining: 3.72s\n",
      "709:\tlearn: 0.0051235\ttotal: 9.07s\tremaining: 3.7s\n",
      "710:\tlearn: 0.0051138\ttotal: 9.08s\tremaining: 3.69s\n",
      "711:\tlearn: 0.0051097\ttotal: 9.1s\tremaining: 3.68s\n",
      "712:\tlearn: 0.0050916\ttotal: 9.11s\tremaining: 3.67s\n",
      "713:\tlearn: 0.0050853\ttotal: 9.13s\tremaining: 3.66s\n",
      "714:\tlearn: 0.0050751\ttotal: 9.14s\tremaining: 3.64s\n",
      "715:\tlearn: 0.0050675\ttotal: 9.15s\tremaining: 3.63s\n",
      "716:\tlearn: 0.0050548\ttotal: 9.17s\tremaining: 3.62s\n",
      "717:\tlearn: 0.0050396\ttotal: 9.18s\tremaining: 3.6s\n",
      "718:\tlearn: 0.0050348\ttotal: 9.19s\tremaining: 3.59s\n",
      "719:\tlearn: 0.0050245\ttotal: 9.2s\tremaining: 3.58s\n",
      "720:\tlearn: 0.0050216\ttotal: 9.21s\tremaining: 3.56s\n",
      "721:\tlearn: 0.0050093\ttotal: 9.22s\tremaining: 3.55s\n",
      "722:\tlearn: 0.0050057\ttotal: 9.23s\tremaining: 3.54s\n",
      "723:\tlearn: 0.0049936\ttotal: 9.25s\tremaining: 3.52s\n",
      "724:\tlearn: 0.0049847\ttotal: 9.26s\tremaining: 3.51s\n",
      "725:\tlearn: 0.0049804\ttotal: 9.27s\tremaining: 3.5s\n",
      "726:\tlearn: 0.0049689\ttotal: 9.28s\tremaining: 3.48s\n",
      "727:\tlearn: 0.0049477\ttotal: 9.3s\tremaining: 3.47s\n",
      "728:\tlearn: 0.0049384\ttotal: 9.31s\tremaining: 3.46s\n",
      "729:\tlearn: 0.0049294\ttotal: 9.32s\tremaining: 3.45s\n",
      "730:\tlearn: 0.0049174\ttotal: 9.33s\tremaining: 3.43s\n",
      "731:\tlearn: 0.0049026\ttotal: 9.35s\tremaining: 3.42s\n",
      "732:\tlearn: 0.0048904\ttotal: 9.36s\tremaining: 3.41s\n",
      "733:\tlearn: 0.0048854\ttotal: 9.37s\tremaining: 3.4s\n",
      "734:\tlearn: 0.0048775\ttotal: 9.38s\tremaining: 3.38s\n",
      "735:\tlearn: 0.0048716\ttotal: 9.4s\tremaining: 3.37s\n",
      "736:\tlearn: 0.0048669\ttotal: 9.41s\tremaining: 3.36s\n",
      "737:\tlearn: 0.0048643\ttotal: 9.42s\tremaining: 3.34s\n",
      "738:\tlearn: 0.0048568\ttotal: 9.43s\tremaining: 3.33s\n",
      "739:\tlearn: 0.0048509\ttotal: 9.44s\tremaining: 3.32s\n",
      "740:\tlearn: 0.0048402\ttotal: 9.45s\tremaining: 3.3s\n",
      "741:\tlearn: 0.0048354\ttotal: 9.46s\tremaining: 3.29s\n",
      "742:\tlearn: 0.0048296\ttotal: 9.47s\tremaining: 3.27s\n",
      "743:\tlearn: 0.0048184\ttotal: 9.48s\tremaining: 3.26s\n",
      "744:\tlearn: 0.0048146\ttotal: 9.49s\tremaining: 3.25s\n",
      "745:\tlearn: 0.0048020\ttotal: 9.5s\tremaining: 3.24s\n",
      "746:\tlearn: 0.0047920\ttotal: 9.52s\tremaining: 3.22s\n",
      "747:\tlearn: 0.0047882\ttotal: 9.53s\tremaining: 3.21s\n",
      "748:\tlearn: 0.0047813\ttotal: 9.54s\tremaining: 3.2s\n",
      "749:\tlearn: 0.0047767\ttotal: 9.55s\tremaining: 3.18s\n",
      "750:\tlearn: 0.0047712\ttotal: 9.56s\tremaining: 3.17s\n",
      "751:\tlearn: 0.0047625\ttotal: 9.57s\tremaining: 3.16s\n",
      "752:\tlearn: 0.0047556\ttotal: 9.59s\tremaining: 3.14s\n",
      "753:\tlearn: 0.0047500\ttotal: 9.59s\tremaining: 3.13s\n",
      "754:\tlearn: 0.0047473\ttotal: 9.61s\tremaining: 3.12s\n",
      "755:\tlearn: 0.0047437\ttotal: 9.61s\tremaining: 3.1s\n",
      "756:\tlearn: 0.0047382\ttotal: 9.62s\tremaining: 3.09s\n",
      "757:\tlearn: 0.0047306\ttotal: 9.63s\tremaining: 3.08s\n",
      "758:\tlearn: 0.0047233\ttotal: 9.64s\tremaining: 3.06s\n",
      "759:\tlearn: 0.0047163\ttotal: 9.65s\tremaining: 3.05s\n",
      "760:\tlearn: 0.0047098\ttotal: 9.67s\tremaining: 3.04s\n",
      "761:\tlearn: 0.0047060\ttotal: 9.68s\tremaining: 3.02s\n",
      "762:\tlearn: 0.0046950\ttotal: 9.69s\tremaining: 3.01s\n",
      "763:\tlearn: 0.0046838\ttotal: 9.7s\tremaining: 2.99s\n",
      "764:\tlearn: 0.0046718\ttotal: 9.71s\tremaining: 2.98s\n",
      "765:\tlearn: 0.0046670\ttotal: 9.72s\tremaining: 2.97s\n",
      "766:\tlearn: 0.0046642\ttotal: 9.73s\tremaining: 2.96s\n",
      "767:\tlearn: 0.0046502\ttotal: 9.74s\tremaining: 2.94s\n",
      "768:\tlearn: 0.0046417\ttotal: 9.76s\tremaining: 2.93s\n",
      "769:\tlearn: 0.0046333\ttotal: 9.77s\tremaining: 2.92s\n",
      "770:\tlearn: 0.0046298\ttotal: 9.78s\tremaining: 2.9s\n",
      "771:\tlearn: 0.0046242\ttotal: 9.79s\tremaining: 2.89s\n",
      "772:\tlearn: 0.0046175\ttotal: 9.8s\tremaining: 2.88s\n",
      "773:\tlearn: 0.0046063\ttotal: 9.81s\tremaining: 2.86s\n",
      "774:\tlearn: 0.0046040\ttotal: 9.82s\tremaining: 2.85s\n",
      "775:\tlearn: 0.0045958\ttotal: 9.83s\tremaining: 2.84s\n",
      "776:\tlearn: 0.0045835\ttotal: 9.84s\tremaining: 2.82s\n",
      "777:\tlearn: 0.0045753\ttotal: 9.85s\tremaining: 2.81s\n",
      "778:\tlearn: 0.0045743\ttotal: 9.86s\tremaining: 2.8s\n",
      "779:\tlearn: 0.0045693\ttotal: 9.87s\tremaining: 2.78s\n",
      "780:\tlearn: 0.0045633\ttotal: 9.88s\tremaining: 2.77s\n",
      "781:\tlearn: 0.0045565\ttotal: 9.89s\tremaining: 2.76s\n",
      "782:\tlearn: 0.0045449\ttotal: 9.9s\tremaining: 2.74s\n",
      "783:\tlearn: 0.0045375\ttotal: 9.91s\tremaining: 2.73s\n",
      "784:\tlearn: 0.0045261\ttotal: 9.92s\tremaining: 2.72s\n",
      "785:\tlearn: 0.0045201\ttotal: 9.93s\tremaining: 2.7s\n",
      "786:\tlearn: 0.0045035\ttotal: 9.95s\tremaining: 2.69s\n",
      "787:\tlearn: 0.0044983\ttotal: 9.96s\tremaining: 2.68s\n",
      "788:\tlearn: 0.0044819\ttotal: 9.97s\tremaining: 2.67s\n",
      "789:\tlearn: 0.0044778\ttotal: 9.98s\tremaining: 2.65s\n",
      "790:\tlearn: 0.0044705\ttotal: 9.99s\tremaining: 2.64s\n",
      "791:\tlearn: 0.0044629\ttotal: 10s\tremaining: 2.63s\n",
      "792:\tlearn: 0.0044564\ttotal: 10s\tremaining: 2.61s\n",
      "793:\tlearn: 0.0044501\ttotal: 10s\tremaining: 2.6s\n",
      "794:\tlearn: 0.0044446\ttotal: 10s\tremaining: 2.59s\n",
      "795:\tlearn: 0.0044402\ttotal: 10s\tremaining: 2.57s\n",
      "796:\tlearn: 0.0044326\ttotal: 10.1s\tremaining: 2.56s\n",
      "797:\tlearn: 0.0044289\ttotal: 10.1s\tremaining: 2.55s\n",
      "798:\tlearn: 0.0044262\ttotal: 10.1s\tremaining: 2.54s\n",
      "799:\tlearn: 0.0044235\ttotal: 10.1s\tremaining: 2.52s\n",
      "800:\tlearn: 0.0044207\ttotal: 10.1s\tremaining: 2.51s\n",
      "801:\tlearn: 0.0044112\ttotal: 10.1s\tremaining: 2.5s\n",
      "802:\tlearn: 0.0044050\ttotal: 10.1s\tremaining: 2.48s\n",
      "803:\tlearn: 0.0044005\ttotal: 10.1s\tremaining: 2.47s\n",
      "804:\tlearn: 0.0043944\ttotal: 10.1s\tremaining: 2.46s\n",
      "805:\tlearn: 0.0043920\ttotal: 10.2s\tremaining: 2.44s\n",
      "806:\tlearn: 0.0043861\ttotal: 10.2s\tremaining: 2.43s\n",
      "807:\tlearn: 0.0043837\ttotal: 10.2s\tremaining: 2.42s\n",
      "808:\tlearn: 0.0043756\ttotal: 10.2s\tremaining: 2.41s\n",
      "809:\tlearn: 0.0043702\ttotal: 10.2s\tremaining: 2.39s\n",
      "810:\tlearn: 0.0043654\ttotal: 10.2s\tremaining: 2.38s\n",
      "811:\tlearn: 0.0043577\ttotal: 10.2s\tremaining: 2.37s\n",
      "812:\tlearn: 0.0043505\ttotal: 10.2s\tremaining: 2.35s\n",
      "813:\tlearn: 0.0043432\ttotal: 10.2s\tremaining: 2.34s\n",
      "814:\tlearn: 0.0043340\ttotal: 10.3s\tremaining: 2.33s\n",
      "815:\tlearn: 0.0043280\ttotal: 10.3s\tremaining: 2.31s\n",
      "816:\tlearn: 0.0043199\ttotal: 10.3s\tremaining: 2.3s\n",
      "817:\tlearn: 0.0043130\ttotal: 10.3s\tremaining: 2.29s\n",
      "818:\tlearn: 0.0043080\ttotal: 10.3s\tremaining: 2.27s\n",
      "819:\tlearn: 0.0043034\ttotal: 10.3s\tremaining: 2.26s\n",
      "820:\tlearn: 0.0042985\ttotal: 10.3s\tremaining: 2.25s\n",
      "821:\tlearn: 0.0042919\ttotal: 10.3s\tremaining: 2.24s\n",
      "822:\tlearn: 0.0042862\ttotal: 10.3s\tremaining: 2.22s\n",
      "823:\tlearn: 0.0042804\ttotal: 10.3s\tremaining: 2.21s\n",
      "824:\tlearn: 0.0042737\ttotal: 10.4s\tremaining: 2.2s\n",
      "825:\tlearn: 0.0042678\ttotal: 10.4s\tremaining: 2.19s\n",
      "826:\tlearn: 0.0042641\ttotal: 10.4s\tremaining: 2.17s\n",
      "827:\tlearn: 0.0042587\ttotal: 10.4s\tremaining: 2.16s\n",
      "828:\tlearn: 0.0042514\ttotal: 10.4s\tremaining: 2.15s\n",
      "829:\tlearn: 0.0042483\ttotal: 10.4s\tremaining: 2.13s\n",
      "830:\tlearn: 0.0042384\ttotal: 10.4s\tremaining: 2.12s\n",
      "831:\tlearn: 0.0042350\ttotal: 10.4s\tremaining: 2.11s\n",
      "832:\tlearn: 0.0042273\ttotal: 10.5s\tremaining: 2.1s\n",
      "833:\tlearn: 0.0042159\ttotal: 10.5s\tremaining: 2.08s\n",
      "834:\tlearn: 0.0042125\ttotal: 10.5s\tremaining: 2.07s\n",
      "835:\tlearn: 0.0042083\ttotal: 10.5s\tremaining: 2.06s\n",
      "836:\tlearn: 0.0042050\ttotal: 10.5s\tremaining: 2.04s\n",
      "837:\tlearn: 0.0041977\ttotal: 10.5s\tremaining: 2.03s\n",
      "838:\tlearn: 0.0041895\ttotal: 10.5s\tremaining: 2.02s\n",
      "839:\tlearn: 0.0041779\ttotal: 10.5s\tremaining: 2s\n",
      "840:\tlearn: 0.0041689\ttotal: 10.5s\tremaining: 1.99s\n",
      "841:\tlearn: 0.0041654\ttotal: 10.5s\tremaining: 1.98s\n",
      "842:\tlearn: 0.0041613\ttotal: 10.6s\tremaining: 1.97s\n",
      "843:\tlearn: 0.0041546\ttotal: 10.6s\tremaining: 1.95s\n",
      "844:\tlearn: 0.0041467\ttotal: 10.6s\tremaining: 1.94s\n",
      "845:\tlearn: 0.0041394\ttotal: 10.6s\tremaining: 1.93s\n",
      "846:\tlearn: 0.0041326\ttotal: 10.6s\tremaining: 1.92s\n",
      "847:\tlearn: 0.0041259\ttotal: 10.6s\tremaining: 1.9s\n",
      "848:\tlearn: 0.0041236\ttotal: 10.6s\tremaining: 1.89s\n",
      "849:\tlearn: 0.0041192\ttotal: 10.6s\tremaining: 1.88s\n",
      "850:\tlearn: 0.0041141\ttotal: 10.7s\tremaining: 1.86s\n",
      "851:\tlearn: 0.0041078\ttotal: 10.7s\tremaining: 1.85s\n",
      "852:\tlearn: 0.0041022\ttotal: 10.7s\tremaining: 1.84s\n",
      "853:\tlearn: 0.0040972\ttotal: 10.7s\tremaining: 1.82s\n",
      "854:\tlearn: 0.0040904\ttotal: 10.7s\tremaining: 1.81s\n",
      "855:\tlearn: 0.0040881\ttotal: 10.7s\tremaining: 1.8s\n",
      "856:\tlearn: 0.0040839\ttotal: 10.7s\tremaining: 1.79s\n",
      "857:\tlearn: 0.0040710\ttotal: 10.7s\tremaining: 1.77s\n",
      "858:\tlearn: 0.0040685\ttotal: 10.7s\tremaining: 1.76s\n",
      "859:\tlearn: 0.0040539\ttotal: 10.7s\tremaining: 1.75s\n",
      "860:\tlearn: 0.0040479\ttotal: 10.8s\tremaining: 1.74s\n",
      "861:\tlearn: 0.0040427\ttotal: 10.8s\tremaining: 1.72s\n",
      "862:\tlearn: 0.0040392\ttotal: 10.8s\tremaining: 1.71s\n",
      "863:\tlearn: 0.0040309\ttotal: 10.8s\tremaining: 1.7s\n",
      "864:\tlearn: 0.0040204\ttotal: 10.8s\tremaining: 1.69s\n",
      "865:\tlearn: 0.0040089\ttotal: 10.8s\tremaining: 1.67s\n",
      "866:\tlearn: 0.0040032\ttotal: 10.8s\tremaining: 1.66s\n",
      "867:\tlearn: 0.0039965\ttotal: 10.8s\tremaining: 1.65s\n",
      "868:\tlearn: 0.0039892\ttotal: 10.8s\tremaining: 1.63s\n",
      "869:\tlearn: 0.0039831\ttotal: 10.9s\tremaining: 1.62s\n",
      "870:\tlearn: 0.0039756\ttotal: 10.9s\tremaining: 1.61s\n",
      "871:\tlearn: 0.0039675\ttotal: 10.9s\tremaining: 1.6s\n",
      "872:\tlearn: 0.0039624\ttotal: 10.9s\tremaining: 1.58s\n",
      "873:\tlearn: 0.0039575\ttotal: 10.9s\tremaining: 1.57s\n",
      "874:\tlearn: 0.0039508\ttotal: 10.9s\tremaining: 1.56s\n",
      "875:\tlearn: 0.0039431\ttotal: 10.9s\tremaining: 1.54s\n",
      "876:\tlearn: 0.0039384\ttotal: 10.9s\tremaining: 1.53s\n",
      "877:\tlearn: 0.0039319\ttotal: 10.9s\tremaining: 1.52s\n",
      "878:\tlearn: 0.0039280\ttotal: 10.9s\tremaining: 1.51s\n",
      "879:\tlearn: 0.0039178\ttotal: 11s\tremaining: 1.49s\n",
      "880:\tlearn: 0.0039157\ttotal: 11s\tremaining: 1.48s\n",
      "881:\tlearn: 0.0039043\ttotal: 11s\tremaining: 1.47s\n",
      "882:\tlearn: 0.0038939\ttotal: 11s\tremaining: 1.46s\n",
      "883:\tlearn: 0.0038859\ttotal: 11s\tremaining: 1.44s\n",
      "884:\tlearn: 0.0038789\ttotal: 11s\tremaining: 1.43s\n",
      "885:\tlearn: 0.0038690\ttotal: 11s\tremaining: 1.42s\n",
      "886:\tlearn: 0.0038659\ttotal: 11s\tremaining: 1.41s\n",
      "887:\tlearn: 0.0038590\ttotal: 11.1s\tremaining: 1.39s\n",
      "888:\tlearn: 0.0038517\ttotal: 11.1s\tremaining: 1.38s\n",
      "889:\tlearn: 0.0038421\ttotal: 11.1s\tremaining: 1.37s\n",
      "890:\tlearn: 0.0038327\ttotal: 11.1s\tremaining: 1.35s\n",
      "891:\tlearn: 0.0038303\ttotal: 11.1s\tremaining: 1.34s\n",
      "892:\tlearn: 0.0038214\ttotal: 11.1s\tremaining: 1.33s\n",
      "893:\tlearn: 0.0038132\ttotal: 11.1s\tremaining: 1.32s\n",
      "894:\tlearn: 0.0038088\ttotal: 11.1s\tremaining: 1.3s\n",
      "895:\tlearn: 0.0038021\ttotal: 11.1s\tremaining: 1.29s\n",
      "896:\tlearn: 0.0037954\ttotal: 11.1s\tremaining: 1.28s\n",
      "897:\tlearn: 0.0037886\ttotal: 11.2s\tremaining: 1.27s\n",
      "898:\tlearn: 0.0037842\ttotal: 11.2s\tremaining: 1.25s\n",
      "899:\tlearn: 0.0037776\ttotal: 11.2s\tremaining: 1.24s\n",
      "900:\tlearn: 0.0037733\ttotal: 11.2s\tremaining: 1.23s\n",
      "901:\tlearn: 0.0037691\ttotal: 11.2s\tremaining: 1.22s\n",
      "902:\tlearn: 0.0037623\ttotal: 11.2s\tremaining: 1.2s\n",
      "903:\tlearn: 0.0037589\ttotal: 11.2s\tremaining: 1.19s\n",
      "904:\tlearn: 0.0037551\ttotal: 11.2s\tremaining: 1.18s\n",
      "905:\tlearn: 0.0037521\ttotal: 11.2s\tremaining: 1.17s\n",
      "906:\tlearn: 0.0037465\ttotal: 11.3s\tremaining: 1.15s\n",
      "907:\tlearn: 0.0037426\ttotal: 11.3s\tremaining: 1.14s\n",
      "908:\tlearn: 0.0037409\ttotal: 11.3s\tremaining: 1.13s\n",
      "909:\tlearn: 0.0037352\ttotal: 11.3s\tremaining: 1.12s\n",
      "910:\tlearn: 0.0037311\ttotal: 11.3s\tremaining: 1.1s\n",
      "911:\tlearn: 0.0037222\ttotal: 11.3s\tremaining: 1.09s\n",
      "912:\tlearn: 0.0037199\ttotal: 11.3s\tremaining: 1.08s\n",
      "913:\tlearn: 0.0037161\ttotal: 11.3s\tremaining: 1.06s\n",
      "914:\tlearn: 0.0037117\ttotal: 11.3s\tremaining: 1.05s\n",
      "915:\tlearn: 0.0037066\ttotal: 11.3s\tremaining: 1.04s\n",
      "916:\tlearn: 0.0037045\ttotal: 11.4s\tremaining: 1.03s\n",
      "917:\tlearn: 0.0037015\ttotal: 11.4s\tremaining: 1.01s\n",
      "918:\tlearn: 0.0036987\ttotal: 11.4s\tremaining: 1s\n",
      "919:\tlearn: 0.0036907\ttotal: 11.4s\tremaining: 990ms\n",
      "920:\tlearn: 0.0036856\ttotal: 11.4s\tremaining: 978ms\n",
      "921:\tlearn: 0.0036766\ttotal: 11.5s\tremaining: 969ms\n",
      "922:\tlearn: 0.0036717\ttotal: 11.5s\tremaining: 956ms\n",
      "923:\tlearn: 0.0036670\ttotal: 11.5s\tremaining: 944ms\n",
      "924:\tlearn: 0.0036628\ttotal: 11.5s\tremaining: 931ms\n",
      "925:\tlearn: 0.0036549\ttotal: 11.5s\tremaining: 919ms\n",
      "926:\tlearn: 0.0036482\ttotal: 11.5s\tremaining: 906ms\n",
      "927:\tlearn: 0.0036418\ttotal: 11.5s\tremaining: 893ms\n",
      "928:\tlearn: 0.0036370\ttotal: 11.5s\tremaining: 881ms\n",
      "929:\tlearn: 0.0036285\ttotal: 11.5s\tremaining: 868ms\n",
      "930:\tlearn: 0.0036237\ttotal: 11.5s\tremaining: 856ms\n",
      "931:\tlearn: 0.0036177\ttotal: 11.6s\tremaining: 843ms\n",
      "932:\tlearn: 0.0036140\ttotal: 11.6s\tremaining: 831ms\n",
      "933:\tlearn: 0.0036060\ttotal: 11.6s\tremaining: 818ms\n",
      "934:\tlearn: 0.0036006\ttotal: 11.6s\tremaining: 805ms\n",
      "935:\tlearn: 0.0035952\ttotal: 11.6s\tremaining: 793ms\n",
      "936:\tlearn: 0.0035912\ttotal: 11.6s\tremaining: 780ms\n",
      "937:\tlearn: 0.0035890\ttotal: 11.6s\tremaining: 768ms\n",
      "938:\tlearn: 0.0035817\ttotal: 11.6s\tremaining: 756ms\n",
      "939:\tlearn: 0.0035789\ttotal: 11.7s\tremaining: 744ms\n",
      "940:\tlearn: 0.0035756\ttotal: 11.7s\tremaining: 731ms\n",
      "941:\tlearn: 0.0035727\ttotal: 11.7s\tremaining: 719ms\n",
      "942:\tlearn: 0.0035705\ttotal: 11.7s\tremaining: 706ms\n",
      "943:\tlearn: 0.0035665\ttotal: 11.7s\tremaining: 694ms\n",
      "944:\tlearn: 0.0035620\ttotal: 11.7s\tremaining: 681ms\n",
      "945:\tlearn: 0.0035581\ttotal: 11.7s\tremaining: 669ms\n",
      "946:\tlearn: 0.0035560\ttotal: 11.7s\tremaining: 656ms\n",
      "947:\tlearn: 0.0035526\ttotal: 11.7s\tremaining: 644ms\n",
      "948:\tlearn: 0.0035477\ttotal: 11.7s\tremaining: 631ms\n",
      "949:\tlearn: 0.0035424\ttotal: 11.8s\tremaining: 619ms\n",
      "950:\tlearn: 0.0035398\ttotal: 11.8s\tremaining: 606ms\n",
      "951:\tlearn: 0.0035358\ttotal: 11.8s\tremaining: 594ms\n",
      "952:\tlearn: 0.0035278\ttotal: 11.8s\tremaining: 581ms\n",
      "953:\tlearn: 0.0035251\ttotal: 11.8s\tremaining: 569ms\n",
      "954:\tlearn: 0.0035232\ttotal: 11.8s\tremaining: 556ms\n",
      "955:\tlearn: 0.0035139\ttotal: 11.8s\tremaining: 544ms\n",
      "956:\tlearn: 0.0035114\ttotal: 11.8s\tremaining: 532ms\n",
      "957:\tlearn: 0.0035093\ttotal: 11.8s\tremaining: 519ms\n",
      "958:\tlearn: 0.0035022\ttotal: 11.9s\tremaining: 507ms\n",
      "959:\tlearn: 0.0035011\ttotal: 11.9s\tremaining: 495ms\n",
      "960:\tlearn: 0.0034972\ttotal: 11.9s\tremaining: 482ms\n",
      "961:\tlearn: 0.0034904\ttotal: 11.9s\tremaining: 470ms\n",
      "962:\tlearn: 0.0034855\ttotal: 11.9s\tremaining: 457ms\n",
      "963:\tlearn: 0.0034822\ttotal: 11.9s\tremaining: 445ms\n",
      "964:\tlearn: 0.0034726\ttotal: 11.9s\tremaining: 432ms\n",
      "965:\tlearn: 0.0034689\ttotal: 11.9s\tremaining: 420ms\n",
      "966:\tlearn: 0.0034664\ttotal: 11.9s\tremaining: 408ms\n",
      "967:\tlearn: 0.0034614\ttotal: 12s\tremaining: 395ms\n",
      "968:\tlearn: 0.0034530\ttotal: 12s\tremaining: 383ms\n",
      "969:\tlearn: 0.0034468\ttotal: 12s\tremaining: 370ms\n",
      "970:\tlearn: 0.0034431\ttotal: 12s\tremaining: 358ms\n",
      "971:\tlearn: 0.0034398\ttotal: 12s\tremaining: 346ms\n",
      "972:\tlearn: 0.0034322\ttotal: 12s\tremaining: 333ms\n",
      "973:\tlearn: 0.0034289\ttotal: 12s\tremaining: 321ms\n",
      "974:\tlearn: 0.0034243\ttotal: 12s\tremaining: 308ms\n",
      "975:\tlearn: 0.0034202\ttotal: 12s\tremaining: 296ms\n",
      "976:\tlearn: 0.0034144\ttotal: 12.1s\tremaining: 284ms\n",
      "977:\tlearn: 0.0034104\ttotal: 12.1s\tremaining: 271ms\n",
      "978:\tlearn: 0.0034070\ttotal: 12.1s\tremaining: 259ms\n",
      "979:\tlearn: 0.0034031\ttotal: 12.1s\tremaining: 247ms\n",
      "980:\tlearn: 0.0033989\ttotal: 12.1s\tremaining: 235ms\n",
      "981:\tlearn: 0.0033963\ttotal: 12.1s\tremaining: 222ms\n",
      "982:\tlearn: 0.0033928\ttotal: 12.1s\tremaining: 210ms\n",
      "983:\tlearn: 0.0033864\ttotal: 12.1s\tremaining: 197ms\n",
      "984:\tlearn: 0.0033797\ttotal: 12.2s\tremaining: 185ms\n",
      "985:\tlearn: 0.0033780\ttotal: 12.2s\tremaining: 173ms\n",
      "986:\tlearn: 0.0033746\ttotal: 12.2s\tremaining: 160ms\n",
      "987:\tlearn: 0.0033661\ttotal: 12.2s\tremaining: 148ms\n",
      "988:\tlearn: 0.0033558\ttotal: 12.2s\tremaining: 136ms\n",
      "989:\tlearn: 0.0033537\ttotal: 12.2s\tremaining: 123ms\n",
      "990:\tlearn: 0.0033482\ttotal: 12.2s\tremaining: 111ms\n",
      "991:\tlearn: 0.0033440\ttotal: 12.2s\tremaining: 98.6ms\n",
      "992:\tlearn: 0.0033383\ttotal: 12.2s\tremaining: 86.3ms\n",
      "993:\tlearn: 0.0033306\ttotal: 12.2s\tremaining: 73.9ms\n",
      "994:\tlearn: 0.0033274\ttotal: 12.3s\tremaining: 61.6ms\n",
      "995:\tlearn: 0.0033226\ttotal: 12.3s\tremaining: 49.3ms\n",
      "996:\tlearn: 0.0033171\ttotal: 12.3s\tremaining: 37ms\n",
      "997:\tlearn: 0.0033110\ttotal: 12.3s\tremaining: 24.7ms\n",
      "998:\tlearn: 0.0033082\ttotal: 12.3s\tremaining: 12.3ms\n",
      "999:\tlearn: 0.0033055\ttotal: 12.3s\tremaining: 0us\n",
      "{'Logistic Regression': 0.967953667953668, 'SVC': 0.9752895752895753, 'KNeighbours': 0.9691119691119691, 'Cat Boost': 0.9833976833976834, 'XGB': 0.9822393822393822, 'Decision Tree': 0.9803088803088803, 'Random Forest': 0.9837837837837838}\n",
      "Random Forest is the best model with accuracy of 0.9837837837837838\n"
     ]
    }
   ],
   "source": [
    "report = {}\n",
    "for i in range(len(list(models))):\n",
    "    model = list(models.values())[i]\n",
    "    model.fit(X_train,y_train)\n",
    "    prediction = model.predict(X_test)\n",
    "    score = accuracy_score(y_test,prediction)\n",
    "    report[list(models.keys())[i]] = score\n",
    "best_score = max(sorted(list(report.values())))\n",
    "for k,v in report.items():\n",
    "    if v == best_score:\n",
    "        best_model_name = k\n",
    "        break\n",
    "print(report)\n",
    "print(f\"{best_model_name} is the best model with accuracy of {best_score}\")"
   ]
  },
  {
   "cell_type": "code",
   "execution_count": 38,
   "metadata": {},
   "outputs": [
    {
     "data": {
      "text/html": [
       "<div>\n",
       "<style scoped>\n",
       "    .dataframe tbody tr th:only-of-type {\n",
       "        vertical-align: middle;\n",
       "    }\n",
       "\n",
       "    .dataframe tbody tr th {\n",
       "        vertical-align: top;\n",
       "    }\n",
       "\n",
       "    .dataframe thead th {\n",
       "        text-align: right;\n",
       "    }\n",
       "</style>\n",
       "<table border=\"1\" class=\"dataframe\">\n",
       "  <thead>\n",
       "    <tr style=\"text-align: right;\">\n",
       "      <th></th>\n",
       "      <th>temperature</th>\n",
       "      <th>humidity</th>\n",
       "      <th>wind speed</th>\n",
       "      <th>precipitation (%)</th>\n",
       "      <th>cloud cover</th>\n",
       "      <th>atmospheric pressure</th>\n",
       "      <th>uv index</th>\n",
       "      <th>season</th>\n",
       "      <th>visibility (km)</th>\n",
       "      <th>location</th>\n",
       "      <th>weather type</th>\n",
       "    </tr>\n",
       "  </thead>\n",
       "  <tbody>\n",
       "    <tr>\n",
       "      <th>0</th>\n",
       "      <td>14.0</td>\n",
       "      <td>73</td>\n",
       "      <td>9.5</td>\n",
       "      <td>82.0</td>\n",
       "      <td>partly cloudy</td>\n",
       "      <td>1010.82</td>\n",
       "      <td>2</td>\n",
       "      <td>Winter</td>\n",
       "      <td>3.5</td>\n",
       "      <td>inland</td>\n",
       "      <td>1</td>\n",
       "    </tr>\n",
       "    <tr>\n",
       "      <th>1</th>\n",
       "      <td>39.0</td>\n",
       "      <td>96</td>\n",
       "      <td>8.5</td>\n",
       "      <td>71.0</td>\n",
       "      <td>partly cloudy</td>\n",
       "      <td>1011.43</td>\n",
       "      <td>7</td>\n",
       "      <td>Spring</td>\n",
       "      <td>10.0</td>\n",
       "      <td>inland</td>\n",
       "      <td>0</td>\n",
       "    </tr>\n",
       "    <tr>\n",
       "      <th>2</th>\n",
       "      <td>30.0</td>\n",
       "      <td>64</td>\n",
       "      <td>7.0</td>\n",
       "      <td>16.0</td>\n",
       "      <td>clear</td>\n",
       "      <td>1018.72</td>\n",
       "      <td>5</td>\n",
       "      <td>Spring</td>\n",
       "      <td>5.5</td>\n",
       "      <td>mountain</td>\n",
       "      <td>2</td>\n",
       "    </tr>\n",
       "    <tr>\n",
       "      <th>3</th>\n",
       "      <td>38.0</td>\n",
       "      <td>83</td>\n",
       "      <td>1.5</td>\n",
       "      <td>82.0</td>\n",
       "      <td>clear</td>\n",
       "      <td>1026.25</td>\n",
       "      <td>7</td>\n",
       "      <td>Spring</td>\n",
       "      <td>1.0</td>\n",
       "      <td>coastal</td>\n",
       "      <td>2</td>\n",
       "    </tr>\n",
       "    <tr>\n",
       "      <th>4</th>\n",
       "      <td>27.0</td>\n",
       "      <td>74</td>\n",
       "      <td>17.0</td>\n",
       "      <td>66.0</td>\n",
       "      <td>overcast</td>\n",
       "      <td>990.67</td>\n",
       "      <td>1</td>\n",
       "      <td>Winter</td>\n",
       "      <td>2.5</td>\n",
       "      <td>mountain</td>\n",
       "      <td>1</td>\n",
       "    </tr>\n",
       "  </tbody>\n",
       "</table>\n",
       "</div>"
      ],
      "text/plain": [
       "   temperature  humidity  wind speed  precipitation (%)    cloud cover  \\\n",
       "0         14.0        73         9.5               82.0  partly cloudy   \n",
       "1         39.0        96         8.5               71.0  partly cloudy   \n",
       "2         30.0        64         7.0               16.0          clear   \n",
       "3         38.0        83         1.5               82.0          clear   \n",
       "4         27.0        74        17.0               66.0       overcast   \n",
       "\n",
       "   atmospheric pressure  uv index  season  visibility (km)  location  \\\n",
       "0               1010.82         2  Winter              3.5    inland   \n",
       "1               1011.43         7  Spring             10.0    inland   \n",
       "2               1018.72         5  Spring              5.5  mountain   \n",
       "3               1026.25         7  Spring              1.0   coastal   \n",
       "4                990.67         1  Winter              2.5  mountain   \n",
       "\n",
       "   weather type  \n",
       "0             1  \n",
       "1             0  \n",
       "2             2  \n",
       "3             2  \n",
       "4             1  "
      ]
     },
     "execution_count": 38,
     "metadata": {},
     "output_type": "execute_result"
    }
   ],
   "source": [
    "df.head()"
   ]
  },
  {
   "cell_type": "code",
   "execution_count": 39,
   "metadata": {},
   "outputs": [],
   "source": [
    "df.to_csv('C:/Users/odhia/OneDrive/Desktop/mlopsProjects/notebook/data/processed_data.csv',index=True)"
   ]
  },
  {
   "cell_type": "code",
   "execution_count": null,
   "metadata": {},
   "outputs": [],
   "source": []
  }
 ],
 "metadata": {
  "kernelspec": {
   "display_name": ".venv",
   "language": "python",
   "name": "python3"
  },
  "language_info": {
   "codemirror_mode": {
    "name": "ipython",
    "version": 3
   },
   "file_extension": ".py",
   "mimetype": "text/x-python",
   "name": "python",
   "nbconvert_exporter": "python",
   "pygments_lexer": "ipython3",
   "version": "3.11.3"
  }
 },
 "nbformat": 4,
 "nbformat_minor": 2
}
